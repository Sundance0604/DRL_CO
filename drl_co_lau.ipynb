{
 "cells": [
  {
   "cell_type": "markdown",
   "metadata": {},
   "source": [
    "# 强化学习与组合优化"
   ]
  },
  {
   "cell_type": "markdown",
   "metadata": {},
   "source": [
    "## 强化学习解决贪心算法"
   ]
  },
  {
   "cell_type": "code",
   "execution_count": 1,
   "metadata": {},
   "outputs": [
    {
     "name": "stdout",
     "output_type": "stream",
     "text": [
      "Q-Table:\n",
      "[[ -6.90421799  -6.9347383   -7.09330006  -7.06063255  -7.23936112]\n",
      " [ -7.03011367  -7.00396905  -7.14359062  -7.07267941  -7.11346004]\n",
      " [ -7.03007532  -6.99966607  -6.91252205 -35.3080019  -19.41248343]\n",
      " [-19.28465896 -27.835039   -53.74457062  -6.91455529  -6.92915222]\n",
      " [ -6.98089867  -6.23867516  -6.40259648  -6.19840747  -6.10692873]]\n",
      "从节点 0 到节点 4 的最优路径（近似）：[0]\n"
     ]
    }
   ],
   "source": [
    "import numpy as np\n",
    "import random\n",
    "\n",
    "# 环境设置\n",
    "# 图的邻接矩阵 (0 表示无连接，其他数值为路径长度)\n",
    "graph = np.array([\n",
    "    [0, 1, 4, 0, 0],\n",
    "    [1, 0, 2, 6, 0],\n",
    "    [4, 2, 0, 3, 0],\n",
    "    [0, 6, 3, 0, 1],\n",
    "    [0, 0, 0, 1, 0]\n",
    "])\n",
    "\n",
    "# 状态和动作\n",
    "states = list(range(len(graph)))  # 5个节点\n",
    "actions = list(range(len(graph)))  # 每个节点都可能是目标\n",
    "\n",
    "# 强化学习参数\n",
    "alpha = 0.1  # 学习率\n",
    "gamma = 0.9  # 折扣因子\n",
    "epsilon = 0.1  # ε-贪心策略\n",
    "\n",
    "# 初始化 Q 表\n",
    "q_table = np.zeros((len(states), len(actions)))\n",
    "\n",
    "# 贪心法求解最短路径\n",
    "def greedy_path(graph, start, end):\n",
    "    \"\"\"通过贪心法寻找从 start 到 end 的路径\"\"\"\n",
    "    path = [start]\n",
    "    current = start\n",
    "    while current != end:\n",
    "        # 找到邻接节点中未访问的最短路径\n",
    "        neighbors = [(i, graph[current][i]) for i in range(len(graph)) if graph[current][i] > 0 and i not in path]\n",
    "        if not neighbors:  # 无法继续\n",
    "            break\n",
    "        next_node = min(neighbors, key=lambda x: x[1])[0]\n",
    "        path.append(next_node)\n",
    "        current = next_node\n",
    "    return path if current == end else None\n",
    "\n",
    "# 强化学习训练\n",
    "episodes = 1000\n",
    "for episode in range(episodes):\n",
    "    # 随机初始化状态\n",
    "    state = random.choice(states)\n",
    "    \n",
    "    while True:\n",
    "        # ε-贪心策略选择动作\n",
    "        if random.uniform(0, 1) < epsilon:\n",
    "            action = random.choice(actions)\n",
    "        else:\n",
    "            action = np.argmax(q_table[state])\n",
    "        \n",
    "        # 执行动作，调用组合优化模块\n",
    "        next_state = action\n",
    "        path = greedy_path(graph, state, next_state)\n",
    "        reward = -len(path) if path else -100  # 奖励与路径长度相关，失败时负奖励\n",
    "        \n",
    "        # 更新 Q 表\n",
    "        q_table[state, action] = q_table[state, action] + alpha * (\n",
    "            reward + gamma * np.max(q_table[next_state]) - q_table[state, action]\n",
    "        )\n",
    "        \n",
    "        # 跳到下一个状态\n",
    "        state = next_state\n",
    "        if path or episode == episodes - 1:  # 路径成功或最后一轮终止\n",
    "            break\n",
    "\n",
    "# 测试训练结果\n",
    "start_node = 0\n",
    "end_node = 4\n",
    "best_action = np.argmax(q_table[start_node])\n",
    "final_path = greedy_path(graph, start_node, best_action)\n",
    "\n",
    "print(\"Q-Table:\")\n",
    "print(q_table)\n",
    "print(f\"从节点 {start_node} 到节点 {end_node} 的最优路径（近似）：{final_path}\")\n"
   ]
  },
  {
   "cell_type": "markdown",
   "metadata": {},
   "source": [
    "多臂老虎机"
   ]
  },
  {
   "cell_type": "code",
   "execution_count": 2,
   "metadata": {},
   "outputs": [
    {
     "name": "stderr",
     "output_type": "stream",
     "text": [
      "C:\\Users\\86198\\AppData\\Local\\Temp\\ipykernel_11948\\4245006009.py:66: UserWarning: Creating a tensor from a list of numpy.ndarrays is extremely slow. Please consider converting the list to a single numpy.ndarray with numpy.array() before converting to a tensor. (Triggered internally at  C:\\actions-runner\\_work\\pytorch\\pytorch\\builder\\windows\\pytorch\\torch\\csrc\\utils\\tensor_new.cpp:204.)\n",
      "  torch.tensor(states, dtype=torch.float32),\n"
     ]
    },
    {
     "name": "stdout",
     "output_type": "stream",
     "text": [
      "Episode 100/1000, Total Reward: 1.45, Epsilon: 0.06\n",
      "Episode 200/1000, Total Reward: 5.38, Epsilon: 0.04\n",
      "Episode 300/1000, Total Reward: 1.32, Epsilon: 0.02\n",
      "Episode 400/1000, Total Reward: 2.04, Epsilon: 0.01\n",
      "Episode 500/1000, Total Reward: 0.69, Epsilon: 0.01\n"
     ]
    },
    {
     "ename": "KeyboardInterrupt",
     "evalue": "",
     "output_type": "error",
     "traceback": [
      "\u001b[1;31m---------------------------------------------------------------------------\u001b[0m",
      "\u001b[1;31mKeyboardInterrupt\u001b[0m                         Traceback (most recent call last)",
      "Cell \u001b[1;32mIn[2], line 114\u001b[0m\n\u001b[0;32m    111\u001b[0m     target \u001b[38;5;241m=\u001b[39m rewards \u001b[38;5;241m+\u001b[39m gamma \u001b[38;5;241m*\u001b[39m max_next_q_values \u001b[38;5;241m*\u001b[39m (\u001b[38;5;241m1\u001b[39m \u001b[38;5;241m-\u001b[39m dones)\n\u001b[0;32m    113\u001b[0m \u001b[38;5;66;03m# 计算当前 Q 值\u001b[39;00m\n\u001b[1;32m--> 114\u001b[0m q_values \u001b[38;5;241m=\u001b[39m \u001b[43mdqn\u001b[49m\u001b[43m(\u001b[49m\u001b[43mstates\u001b[49m\u001b[43m)\u001b[49m\n\u001b[0;32m    115\u001b[0m q_values \u001b[38;5;241m=\u001b[39m q_values\u001b[38;5;241m.\u001b[39mgather(\u001b[38;5;241m1\u001b[39m, actions\u001b[38;5;241m.\u001b[39munsqueeze(\u001b[38;5;241m1\u001b[39m))\u001b[38;5;241m.\u001b[39msqueeze()\n\u001b[0;32m    117\u001b[0m \u001b[38;5;66;03m# 计算损失并优化\u001b[39;00m\n",
      "File \u001b[1;32mc:\\ProgramData\\Anaconda3\\envs\\dirty_test\\lib\\site-packages\\torch\\nn\\modules\\module.py:1130\u001b[0m, in \u001b[0;36mModule._call_impl\u001b[1;34m(self, *input, **kwargs)\u001b[0m\n\u001b[0;32m   1126\u001b[0m \u001b[38;5;66;03m# If we don't have any hooks, we want to skip the rest of the logic in\u001b[39;00m\n\u001b[0;32m   1127\u001b[0m \u001b[38;5;66;03m# this function, and just call forward.\u001b[39;00m\n\u001b[0;32m   1128\u001b[0m \u001b[38;5;28;01mif\u001b[39;00m \u001b[38;5;129;01mnot\u001b[39;00m (\u001b[38;5;28mself\u001b[39m\u001b[38;5;241m.\u001b[39m_backward_hooks \u001b[38;5;129;01mor\u001b[39;00m \u001b[38;5;28mself\u001b[39m\u001b[38;5;241m.\u001b[39m_forward_hooks \u001b[38;5;129;01mor\u001b[39;00m \u001b[38;5;28mself\u001b[39m\u001b[38;5;241m.\u001b[39m_forward_pre_hooks \u001b[38;5;129;01mor\u001b[39;00m _global_backward_hooks\n\u001b[0;32m   1129\u001b[0m         \u001b[38;5;129;01mor\u001b[39;00m _global_forward_hooks \u001b[38;5;129;01mor\u001b[39;00m _global_forward_pre_hooks):\n\u001b[1;32m-> 1130\u001b[0m     \u001b[38;5;28;01mreturn\u001b[39;00m forward_call(\u001b[38;5;241m*\u001b[39m\u001b[38;5;28minput\u001b[39m, \u001b[38;5;241m*\u001b[39m\u001b[38;5;241m*\u001b[39mkwargs)\n\u001b[0;32m   1131\u001b[0m \u001b[38;5;66;03m# Do not call functions when jit is used\u001b[39;00m\n\u001b[0;32m   1132\u001b[0m full_backward_hooks, non_full_backward_hooks \u001b[38;5;241m=\u001b[39m [], []\n",
      "Cell \u001b[1;32mIn[2], line 36\u001b[0m, in \u001b[0;36mDQN.forward\u001b[1;34m(self, x)\u001b[0m\n\u001b[0;32m     35\u001b[0m \u001b[38;5;28;01mdef\u001b[39;00m \u001b[38;5;21mforward\u001b[39m(\u001b[38;5;28mself\u001b[39m, x):\n\u001b[1;32m---> 36\u001b[0m     \u001b[38;5;28;01mreturn\u001b[39;00m \u001b[38;5;28;43mself\u001b[39;49m\u001b[38;5;241;43m.\u001b[39;49m\u001b[43mfc\u001b[49m\u001b[43m(\u001b[49m\u001b[43mx\u001b[49m\u001b[43m)\u001b[49m\n",
      "File \u001b[1;32mc:\\ProgramData\\Anaconda3\\envs\\dirty_test\\lib\\site-packages\\torch\\nn\\modules\\module.py:1130\u001b[0m, in \u001b[0;36mModule._call_impl\u001b[1;34m(self, *input, **kwargs)\u001b[0m\n\u001b[0;32m   1126\u001b[0m \u001b[38;5;66;03m# If we don't have any hooks, we want to skip the rest of the logic in\u001b[39;00m\n\u001b[0;32m   1127\u001b[0m \u001b[38;5;66;03m# this function, and just call forward.\u001b[39;00m\n\u001b[0;32m   1128\u001b[0m \u001b[38;5;28;01mif\u001b[39;00m \u001b[38;5;129;01mnot\u001b[39;00m (\u001b[38;5;28mself\u001b[39m\u001b[38;5;241m.\u001b[39m_backward_hooks \u001b[38;5;129;01mor\u001b[39;00m \u001b[38;5;28mself\u001b[39m\u001b[38;5;241m.\u001b[39m_forward_hooks \u001b[38;5;129;01mor\u001b[39;00m \u001b[38;5;28mself\u001b[39m\u001b[38;5;241m.\u001b[39m_forward_pre_hooks \u001b[38;5;129;01mor\u001b[39;00m _global_backward_hooks\n\u001b[0;32m   1129\u001b[0m         \u001b[38;5;129;01mor\u001b[39;00m _global_forward_hooks \u001b[38;5;129;01mor\u001b[39;00m _global_forward_pre_hooks):\n\u001b[1;32m-> 1130\u001b[0m     \u001b[38;5;28;01mreturn\u001b[39;00m forward_call(\u001b[38;5;241m*\u001b[39m\u001b[38;5;28minput\u001b[39m, \u001b[38;5;241m*\u001b[39m\u001b[38;5;241m*\u001b[39mkwargs)\n\u001b[0;32m   1131\u001b[0m \u001b[38;5;66;03m# Do not call functions when jit is used\u001b[39;00m\n\u001b[0;32m   1132\u001b[0m full_backward_hooks, non_full_backward_hooks \u001b[38;5;241m=\u001b[39m [], []\n",
      "File \u001b[1;32mc:\\ProgramData\\Anaconda3\\envs\\dirty_test\\lib\\site-packages\\torch\\nn\\modules\\container.py:139\u001b[0m, in \u001b[0;36mSequential.forward\u001b[1;34m(self, input)\u001b[0m\n\u001b[0;32m    137\u001b[0m \u001b[38;5;28;01mdef\u001b[39;00m \u001b[38;5;21mforward\u001b[39m(\u001b[38;5;28mself\u001b[39m, \u001b[38;5;28minput\u001b[39m):\n\u001b[0;32m    138\u001b[0m     \u001b[38;5;28;01mfor\u001b[39;00m module \u001b[38;5;129;01min\u001b[39;00m \u001b[38;5;28mself\u001b[39m:\n\u001b[1;32m--> 139\u001b[0m         \u001b[38;5;28minput\u001b[39m \u001b[38;5;241m=\u001b[39m \u001b[43mmodule\u001b[49m\u001b[43m(\u001b[49m\u001b[38;5;28;43minput\u001b[39;49m\u001b[43m)\u001b[49m\n\u001b[0;32m    140\u001b[0m     \u001b[38;5;28;01mreturn\u001b[39;00m \u001b[38;5;28minput\u001b[39m\n",
      "File \u001b[1;32mc:\\ProgramData\\Anaconda3\\envs\\dirty_test\\lib\\site-packages\\torch\\nn\\modules\\module.py:1130\u001b[0m, in \u001b[0;36mModule._call_impl\u001b[1;34m(self, *input, **kwargs)\u001b[0m\n\u001b[0;32m   1126\u001b[0m \u001b[38;5;66;03m# If we don't have any hooks, we want to skip the rest of the logic in\u001b[39;00m\n\u001b[0;32m   1127\u001b[0m \u001b[38;5;66;03m# this function, and just call forward.\u001b[39;00m\n\u001b[0;32m   1128\u001b[0m \u001b[38;5;28;01mif\u001b[39;00m \u001b[38;5;129;01mnot\u001b[39;00m (\u001b[38;5;28mself\u001b[39m\u001b[38;5;241m.\u001b[39m_backward_hooks \u001b[38;5;129;01mor\u001b[39;00m \u001b[38;5;28mself\u001b[39m\u001b[38;5;241m.\u001b[39m_forward_hooks \u001b[38;5;129;01mor\u001b[39;00m \u001b[38;5;28mself\u001b[39m\u001b[38;5;241m.\u001b[39m_forward_pre_hooks \u001b[38;5;129;01mor\u001b[39;00m _global_backward_hooks\n\u001b[0;32m   1129\u001b[0m         \u001b[38;5;129;01mor\u001b[39;00m _global_forward_hooks \u001b[38;5;129;01mor\u001b[39;00m _global_forward_pre_hooks):\n\u001b[1;32m-> 1130\u001b[0m     \u001b[38;5;28;01mreturn\u001b[39;00m forward_call(\u001b[38;5;241m*\u001b[39m\u001b[38;5;28minput\u001b[39m, \u001b[38;5;241m*\u001b[39m\u001b[38;5;241m*\u001b[39mkwargs)\n\u001b[0;32m   1131\u001b[0m \u001b[38;5;66;03m# Do not call functions when jit is used\u001b[39;00m\n\u001b[0;32m   1132\u001b[0m full_backward_hooks, non_full_backward_hooks \u001b[38;5;241m=\u001b[39m [], []\n",
      "File \u001b[1;32mc:\\ProgramData\\Anaconda3\\envs\\dirty_test\\lib\\site-packages\\torch\\nn\\modules\\linear.py:114\u001b[0m, in \u001b[0;36mLinear.forward\u001b[1;34m(self, input)\u001b[0m\n\u001b[0;32m    113\u001b[0m \u001b[38;5;28;01mdef\u001b[39;00m \u001b[38;5;21mforward\u001b[39m(\u001b[38;5;28mself\u001b[39m, \u001b[38;5;28minput\u001b[39m: Tensor) \u001b[38;5;241m-\u001b[39m\u001b[38;5;241m>\u001b[39m Tensor:\n\u001b[1;32m--> 114\u001b[0m     \u001b[38;5;28;01mreturn\u001b[39;00m \u001b[43mF\u001b[49m\u001b[38;5;241;43m.\u001b[39;49m\u001b[43mlinear\u001b[49m\u001b[43m(\u001b[49m\u001b[38;5;28;43minput\u001b[39;49m\u001b[43m,\u001b[49m\u001b[43m \u001b[49m\u001b[38;5;28;43mself\u001b[39;49m\u001b[38;5;241;43m.\u001b[39;49m\u001b[43mweight\u001b[49m\u001b[43m,\u001b[49m\u001b[43m \u001b[49m\u001b[38;5;28;43mself\u001b[39;49m\u001b[38;5;241;43m.\u001b[39;49m\u001b[43mbias\u001b[49m\u001b[43m)\u001b[49m\n",
      "\u001b[1;31mKeyboardInterrupt\u001b[0m: "
     ]
    }
   ],
   "source": [
    "import numpy as np\n",
    "import torch\n",
    "import torch.nn as nn\n",
    "import torch.optim as optim\n",
    "import random\n",
    "from collections import deque\n",
    "\n",
    "# 设置随机种子\n",
    "np.random.seed(42)\n",
    "random.seed(42)\n",
    "torch.manual_seed(42)\n",
    "\n",
    "# 定义老虎机环境\n",
    "class KArmedBandit:\n",
    "    def __init__(self, k):\n",
    "        self.k = k\n",
    "        self.q_star = np.random.normal(0, 1, k)  # 每个老虎机的真实平均奖励\n",
    "    \n",
    "    def step(self, action):\n",
    "        \"\"\"执行动作（选择一个老虎机）并返回奖励\"\"\"\n",
    "        return np.random.normal(self.q_star[action], 1)  # 奖励服从N(q_star[action], 1)\n",
    "\n",
    "# 定义DQN网络\n",
    "class DQN(nn.Module):\n",
    "    def __init__(self, input_size, output_size):\n",
    "        super(DQN, self).__init__()\n",
    "        self.fc = nn.Sequential(\n",
    "            nn.Linear(input_size, 32),\n",
    "            nn.ReLU(),\n",
    "            nn.Linear(32, 32),\n",
    "            nn.ReLU(),\n",
    "            nn.Linear(32, output_size)\n",
    "        )\n",
    "    \n",
    "    def forward(self, x):\n",
    "        return self.fc(x)\n",
    "\n",
    "# 参数和超参数\n",
    "k = 10  # 10臂老虎机\n",
    "episodes = 1000\n",
    "gamma = 0.99\n",
    "epsilon = 0.1\n",
    "epsilon_decay = 0.995\n",
    "min_epsilon = 0.01\n",
    "learning_rate = 0.001\n",
    "batch_size = 32\n",
    "memory_size = 10000\n",
    "\n",
    "# 初始化环境和DQN\n",
    "env = KArmedBandit(k)\n",
    "dqn = DQN(input_size=k, output_size=k)\n",
    "target_dqn = DQN(input_size=k, output_size=k)\n",
    "target_dqn.load_state_dict(dqn.state_dict())  # 初始化目标网络\n",
    "optimizer = optim.Adam(dqn.parameters(), lr=learning_rate)\n",
    "memory = deque(maxlen=memory_size)\n",
    "\n",
    "# 经验回放存储\n",
    "def store_transition(state, action, reward, next_state, done):\n",
    "    memory.append((state, action, reward, next_state, done))\n",
    "\n",
    "# 采样经验回放\n",
    "def sample_batch():\n",
    "    batch = random.sample(memory, batch_size)\n",
    "    states, actions, rewards, next_states, dones = zip(*batch)\n",
    "    return (\n",
    "        torch.tensor(states, dtype=torch.float32),\n",
    "        torch.tensor(actions, dtype=torch.int64),\n",
    "        torch.tensor(rewards, dtype=torch.float32),\n",
    "        torch.tensor(next_states, dtype=torch.float32),\n",
    "        torch.tensor(dones, dtype=torch.float32),\n",
    "    )\n",
    "\n",
    "# 训练过程\n",
    "rewards_history = []\n",
    "\n",
    "for episode in range(episodes):\n",
    "    state = np.zeros(k)  # 状态初始化为0（无实际状态）\n",
    "    total_reward = 0\n",
    "\n",
    "    for step in range(1):\n",
    "        # 选择动作（ε-贪心）\n",
    "        if random.uniform(0, 1) < epsilon:\n",
    "            action = random.choice(range(k))\n",
    "        else:\n",
    "            with torch.no_grad():\n",
    "                q_values = dqn(torch.tensor(state, dtype=torch.float32).unsqueeze(0))\n",
    "                action = torch.argmax(q_values).item()\n",
    "        \n",
    "        # 执行动作并获取奖励\n",
    "        reward = env.step(action)\n",
    "        next_state = np.zeros(k)  # 状态仍然是0（简化）\n",
    "        done = True  # 单步任务，直接结束\n",
    "\n",
    "        # 记录经验\n",
    "        store_transition(state, action, reward, next_state, done)\n",
    "\n",
    "        # 累计奖励\n",
    "        total_reward += reward\n",
    "\n",
    "        # 状态更新\n",
    "        state = next_state\n",
    "\n",
    "        # 更新网络\n",
    "        if len(memory) >= batch_size:\n",
    "            states, actions, rewards, next_states, dones = sample_batch()\n",
    "\n",
    "            # 计算目标值\n",
    "            with torch.no_grad():\n",
    "                next_q_values = target_dqn(next_states)\n",
    "                max_next_q_values = torch.max(next_q_values, dim=1)[0]\n",
    "                target = rewards + gamma * max_next_q_values * (1 - dones)\n",
    "\n",
    "            # 计算当前 Q 值\n",
    "            q_values = dqn(states)\n",
    "            q_values = q_values.gather(1, actions.unsqueeze(1)).squeeze()\n",
    "\n",
    "            # 计算损失并优化\n",
    "            loss = nn.MSELoss()(q_values, target)\n",
    "            optimizer.zero_grad()\n",
    "            loss.backward()\n",
    "            optimizer.step()\n",
    "\n",
    "        # 目标网络软更新\n",
    "        if episode % 10 == 0:\n",
    "            target_dqn.load_state_dict(dqn.state_dict())\n",
    "\n",
    "    # 更新ε\n",
    "    epsilon = max(min_epsilon, epsilon * epsilon_decay)\n",
    "    rewards_history.append(total_reward)\n",
    "\n",
    "    # 打印训练进度\n",
    "    if (episode + 1) % 100 == 0:\n",
    "        print(f\"Episode {episode + 1}/{episodes}, Total Reward: {total_reward:.2f}, Epsilon: {epsilon:.2f}\")\n",
    "\n",
    "# 测试DQN\n",
    "with torch.no_grad():\n",
    "    state = np.zeros(k)\n",
    "    q_values = dqn(torch.tensor(state, dtype=torch.float32).unsqueeze(0))\n",
    "    best_action = torch.argmax(q_values).item()\n",
    "\n",
    "print(\"\\n测试结果：\")\n",
    "print(f\"每个老虎机的真实奖励均值: {env.q_star}\")\n",
    "print(f\"学到的最佳动作: {best_action}, 真实均值: {env.q_star[best_action]:.2f}\")\n"
   ]
  },
  {
   "cell_type": "markdown",
   "metadata": {},
   "source": [
    "## 组合优化建模"
   ]
  },
  {
   "cell_type": "markdown",
   "metadata": {},
   "source": [
    "### 定义一些常量"
   ]
  },
  {
   "cell_type": "code",
   "execution_count": null,
   "metadata": {},
   "outputs": [],
   "source": [
    "cost_battery = [ 10, -5, 3] #单位时间内的耗电量,分别是dispatching, charging, idling\n"
   ]
  },
  {
   "cell_type": "markdown",
   "metadata": {},
   "source": [
    "### 定义车辆与订单"
   ]
  },
  {
   "cell_type": "markdown",
   "metadata": {},
   "source": [
    "定义汽车"
   ]
  },
  {
   "cell_type": "code",
   "execution_count": null,
   "metadata": {},
   "outputs": [],
   "source": [
    "import numpy as np\n",
    "\n",
    "# 定义车辆类\n",
    "class Vehicle:\n",
    "    def __init__(self, vehicle_id, time, into_city, intercity, decision, battery, orders):\n",
    "        \"\"\"\n",
    "        初始化车辆信息\n",
    "        data: 一个长度为10的 numpy 数组\n",
    "        orders: 一个字典，键为订单主码，值为 Order 实例\n",
    "        \"\"\"\n",
    "        self.data = np.array([\n",
    "            vehicle_id,\n",
    "            time,\n",
    "            into_city,\n",
    "            intercity,\n",
    "            decision,\n",
    "            battery\n",
    "        ],dtype = object)\n",
    "        self.orders = orders  # 直接管理订单对象, 是一个字典\n",
    "    \n",
    "    def get_id(self):\n",
    "        \"\"\"获取车辆编号\"\"\"\n",
    "        return self.data[0]\n",
    "    \n",
    "    def get_time(self):\n",
    "        \"\"\"获取当前时间\"\"\"\n",
    "        return self.data[1]\n",
    "    \n",
    "    def update_time(self):\n",
    "        \"\"\"更新时间到 t+1\"\"\"\n",
    "        self.data[1] += 1\n",
    "    \n",
    "    def get_location(self):\n",
    "        \"\"\"获取当前位置，城市内为 False\"\"\"\n",
    "        return self.data[2] != 0\n",
    "    \n",
    "    def into_city(self):\n",
    "        \"\"\"进入城市\"\"\"\n",
    "        self.data[2] = 0\n",
    "    \n",
    "    def intercity(self, v):\n",
    "        \"\"\"离开城市，前往城市 v\"\"\"\n",
    "        self.data[2] = self.data[3]\n",
    "        self.data[3] = v\n",
    "    \n",
    "    def update_state(self, decision):\n",
    "        \"\"\"更新决策,\n",
    "        dispacthing: 0\n",
    "        charging: 1\n",
    "        idle: 2     \"\"\"\n",
    "        self.data[4] = decision\n",
    "    \n",
    "    def get_state(self):\n",
    "        \"\"\"获取当前决策\"\"\"\n",
    "        return self.data[4]\n",
    "    \n",
    "    def update_battery(self):\n",
    "        \"\"\"更新电量\"\"\"\n",
    "        self.data[5] -= cost_battery[self.data[4]]\n",
    "    \n",
    "    def get_battery(self):\n",
    "        \"\"\"获取电量\"\"\"\n",
    "        return self.data[5]\n",
    "    \n",
    "    def get_orders(self):\n",
    "        \"\"\"获取所有订单对象\"\"\"\n",
    "        return list(self.orders.values())\n",
    "    \n",
    "    def delete_order(self, order_id):\n",
    "        \"\"\"删除订单\"\"\"\n",
    "        if order_id in self.orders:\n",
    "            del self.orders[order_id]\n",
    "    \n",
    "    def add_order(self,order):\n",
    "        \"\"\"增加订单\"\"\"\n",
    "        self.orders[order.get_id()] = order\n",
    "    \n",
    "    def get_capacity(self):\n",
    "        \"\"\"计算总载客数\"\"\"\n",
    "        return sum(order.get_passenger() for order in self.orders.values())\n"
   ]
  },
  {
   "cell_type": "markdown",
   "metadata": {},
   "source": [
    "定义订单"
   ]
  },
  {
   "cell_type": "code",
   "execution_count": null,
   "metadata": {},
   "outputs": [],
   "source": [
    "import numpy as np\n",
    "\n",
    "class Order:\n",
    "    def __init__(self, order_id, passenger_count, departure, destination, start_time, end_time, virtual_departure):\n",
    "        # 使用 NumPy 数组存储属性\n",
    "        self.data = np.array([\n",
    "            order_id,             # ID\n",
    "            passenger_count,      # 乘客数\n",
    "            departure,            # 出发地\n",
    "            destination,          # 目的地\n",
    "            start_time,           # 起始时间\n",
    "            end_time,             # 截止时间\n",
    "            virtual_departure,    # 虚拟出发点\n",
    "            0                     # 是否匹配 (0 表示 False, 1 表示 True)\n",
    "        ], dtype=object)\n",
    "\n",
    "    def get_id(self):\n",
    "        \"\"\"返回订单 ID\"\"\"\n",
    "        return self.data[0]\n",
    "\n",
    "    def get_passenger(self):\n",
    "        \"\"\"返回订单乘客数\"\"\"\n",
    "        return self.data[1]\n",
    "\n",
    "    def get_route(self):\n",
    "        \"\"\"返回出发地和目的地\"\"\"\n",
    "        return self.data[2], self.data[3]\n",
    "\n",
    "    def get_time(self):\n",
    "        \"\"\"获取起始与截止时间\"\"\"\n",
    "        return self.data[4], self.data[5]\n",
    "\n",
    "    def change_virtual_departure(self, virtual_departure):\n",
    "        \"\"\"改变虚拟出发点\"\"\"\n",
    "        self.data[6] = virtual_departure\n",
    "\n",
    "    def be_matched(self):\n",
    "        \"\"\"被匹配\"\"\"\n",
    "        self.data[7] = 1 \n"
   ]
  },
  {
   "cell_type": "markdown",
   "metadata": {},
   "source": [
    "汽车与订单的互动"
   ]
  },
  {
   "cell_type": "code",
   "execution_count": null,
   "metadata": {},
   "outputs": [],
   "source": [
    "def vehicle_match_order(vehicle, order):\n",
    "    \"\"\"车辆匹配订单\"\"\"\n",
    "    order.be_matched()\n",
    "    vehicle.add_order(order.get_id())\n"
   ]
  },
  {
   "cell_type": "markdown",
   "metadata": {},
   "source": [
    "### 定义城市与图"
   ]
  },
  {
   "cell_type": "markdown",
   "metadata": {},
   "source": [
    "生成图"
   ]
  },
  {
   "cell_type": "code",
   "execution_count": null,
   "metadata": {},
   "outputs": [],
   "source": [
    "import networkx as nx\n",
    "import random\n",
    "import matplotlib.pyplot as plt\n",
    "\n",
    "def create_random_directed_graph(num_nodes, edge_prob, weight_range=(1, 10)):\n",
    "    \"\"\"\n",
    "    创建一个随机有向图并生成随机边的权重。\n",
    "    \n",
    "    参数:\n",
    "        num_nodes: 节点数量\n",
    "        edge_prob: 每两个节点之间存在边的概率（0 到 1）\n",
    "        weight_range: 权重范围，默认为 (1, 10)\n",
    "    \n",
    "    返回:\n",
    "        G: 随机有向图 (DiGraph)\n",
    "    \"\"\"\n",
    "    G = nx.Graph()\n",
    "    G.add_nodes_from(range(num_nodes))\n",
    "    for u in range(num_nodes):\n",
    "        for v in range(num_nodes):\n",
    "            if u != v and random.random() < edge_prob:\n",
    "                weight = random.randint(*weight_range)\n",
    "                G.add_edge(u, v, weight=weight)\n",
    "    return G\n",
    "\n",
    "def visualize_graph(G, figsize=(10, 8)):\n",
    "    \"\"\"\n",
    "    可视化有向图。\n",
    "    \n",
    "    参数:\n",
    "        G: 有向图 (DiGraph)\n",
    "        figsize: 画布大小，默认为 (10, 8)\n",
    "    \"\"\"\n",
    "    plt.figure(figsize=figsize)  # 调整画布大小\n",
    "    pos = nx.spring_layout(G)  # 使用 spring 布局\n",
    "    edge_labels = nx.get_edge_attributes(G, 'weight')  # 获取边的权重\n",
    "    \n",
    "    # 绘制图\n",
    "    nx.draw(\n",
    "        G, pos, with_labels=True, node_size=1000, node_color=\"lightblue\", \n",
    "        font_size=12, font_weight=\"bold\", arrowsize=20\n",
    "    )\n",
    "    nx.draw_networkx_edge_labels(G, pos, edge_labels=edge_labels, font_color=\"red\", font_size=10)\n",
    "    \n",
    "    plt.title(\"Random Directed Graph\", fontsize=16)\n",
    "    plt.show()\n",
    "\n",
    "def extract_graph_info(G):\n",
    "    \"\"\"\n",
    "    提取图的节点、边及权重信息。\n",
    "    \n",
    "    参数:\n",
    "        G: 有向图 (DiGraph)\n",
    "    \n",
    "    返回:\n",
    "        nodes: 节点列表\n",
    "        edges: 边列表\n",
    "        weights: 边权重字典\n",
    "    \"\"\"\n",
    "    nodes = list(G.nodes())\n",
    "    edges = list(G.edges())\n",
    "    weights = nx.get_edge_attributes(G, 'weight')\n",
    "    return nodes, edges, weights\n",
    "\n"
   ]
  },
  {
   "cell_type": "code",
   "execution_count": null,
   "metadata": {},
   "outputs": [],
   "source": [
    "# 示例：创建并绘制图，同时提取信息\n",
    "num_nodes = 30\n",
    "edge_prob = 0.2\n",
    "weight_range = (1, 20)\n",
    "\n",
    "G = create_random_directed_graph(num_nodes, edge_prob, weight_range)\n",
    "visualize_graph(G, figsize=(12, 10))\n",
    "\n",
    "nodes, edges, weights = extract_graph_info(G)\n",
    "\n",
    "# 打印信息\n",
    "print(\"Nodes:\", nodes)\n",
    "print(\"Edges:\", edges)\n",
    "print(\"Weights:\", weights)"
   ]
  },
  {
   "cell_type": "markdown",
   "metadata": {},
   "source": [
    "#### 使用Dijkstra算法存储最短路径"
   ]
  },
  {
   "cell_type": "code",
   "execution_count": null,
   "metadata": {},
   "outputs": [],
   "source": [
    "import networkx as nx\n",
    "\n",
    "def calculate_shortest_paths(G):\n",
    "    \"\"\"\n",
    "    计算图 G 中任意两节点间的最短距离和路径，返回结果。\n",
    "    \n",
    "    Args:\n",
    "    - G (nx.Graph): 无向图。\n",
    "    \n",
    "    Returns:\n",
    "    - results (list): 每对节点的最短路径信息，包含起点、终点、距离和经过的节点。\n",
    "    \"\"\"\n",
    "    nodes = list(G.nodes)\n",
    "    results = []\n",
    "    for i in range(len(nodes)):\n",
    "        for j in range(i + 1, len(nodes)):  # 确保无重复的城市对\n",
    "            source = nodes[i]\n",
    "            target = nodes[j]\n",
    "            try:\n",
    "                # 使用 Dijkstra 算法计算最短路径和距离\n",
    "                length = nx.dijkstra_path_length(G, source, target)\n",
    "                path = nx.dijkstra_path(G, source, target)\n",
    "                results.append({\"source\": source, \"target\": target, \"distance\": length, \"path\": path})\n",
    "            except nx.NetworkXNoPath:\n",
    "                # 如果没有路径，跳过\n",
    "                continue\n",
    "    return results\n"
   ]
  },
  {
   "cell_type": "code",
   "execution_count": null,
   "metadata": {},
   "outputs": [],
   "source": [
    "G = create_random_directed_graph(num_nodes, edge_prob, weight_range)\n",
    "result = calculate_shortest_paths(G)\n",
    "print(result)"
   ]
  },
  {
   "cell_type": "markdown",
   "metadata": {},
   "source": [
    "提取Dijkstra算法的最短路径"
   ]
  },
  {
   "cell_type": "code",
   "execution_count": null,
   "metadata": {},
   "outputs": [],
   "source": [
    "def get_shortest_path_from_result(result, source, target):\n",
    "    \"\"\"\n",
    "    从给定的 result 列表中提取指定城市对的最短路径和距离。\n",
    "\n",
    "    Args:\n",
    "    - result (list): 预先计算的所有城市对的最短路径信息。\n",
    "                     每个元素是一个字典，格式为：\n",
    "                     {'source': s, 'target': t, 'distance': d, 'path': [path]}。\n",
    "    - source (int): 起始城市的编号。\n",
    "    - target (int): 终点城市的编号。\n",
    "\n",
    "    Returns:\n",
    "    - dict: 包含最短路径的距离和节点顺序。\n",
    "            如果 source 和 target 顺序相反，则调整顺序。\n",
    "            如果无路径，返回 None。\n",
    "    \"\"\"\n",
    "    for entry in result:\n",
    "        if entry['source'] == source and entry['target'] == target:\n",
    "            return {'distance': entry['distance'], 'path': entry['path']}\n",
    "        elif entry['source'] == target and entry['target'] == source:\n",
    "            # 反向路径，调整顺序\n",
    "            return {'distance': entry['distance'], 'path': list(reversed(entry['path']))}\n",
    "    return None\n"
   ]
  },
  {
   "cell_type": "code",
   "execution_count": null,
   "metadata": {},
   "outputs": [],
   "source": [
    "print(get_shortest_path_from_result(result,7,1))"
   ]
  },
  {
   "cell_type": "code",
   "execution_count": null,
   "metadata": {},
   "outputs": [],
   "source": [
    "def get_neighbors(G, city_id):\n",
    "    \"\"\"\n",
    "    获取指定城市的邻接城市。\n",
    "    \n",
    "    参数:\n",
    "        G: 图 (无向图)\n",
    "        city_id: 城市编号（节点编号）\n",
    "    \n",
    "    返回:\n",
    "        neighbors: 邻接城市列表\n",
    "    \"\"\"\n",
    "    if city_id not in G:\n",
    "        raise ValueError(f\"城市 {city_id} 不在图中\")\n",
    "    return list(G.neighbors(city_id))\n",
    "\n",
    "G = create_random_directed_graph(5, 0.5)  # 创建一个随机图\n",
    "visualize_graph(G)  # 可视化图\n",
    "city_id = 0  # 选择一个城市\n",
    "neighbors = get_neighbors(G, city_id)\n",
    "print(f\"城市 {city_id} 的邻接城市: {neighbors}\")"
   ]
  },
  {
   "cell_type": "markdown",
   "metadata": {},
   "source": [
    "获取某一城市的领接城市"
   ]
  },
  {
   "cell_type": "markdown",
   "metadata": {},
   "source": [
    "#### 定义城市"
   ]
  },
  {
   "cell_type": "code",
   "execution_count": null,
   "metadata": {},
   "outputs": [],
   "source": [
    "class City:\n",
    "    def __init__(self, city_id, neighbor, vehicle_available, charging_capacity, real_departure, virtual_departure):\n",
    "        self.city_id = city_id\n",
    "        self.neighbor = neighbor                            # 邻接城市的索引或 ID 列表\n",
    "        self.vehicle_available = vehicle_available          # 可调度车辆的索引列表\n",
    "        self.charging_capacity = charging_capacity          # 充电站容量\n",
    "        self.real_departure = real_departure                # 实际出发点订单的索引列表\n",
    "        self.virtual_departure = virtual_departure          # 虚拟出发点订单的索引列表\n",
    "\n",
    "    def get_neighbor(self):\n",
    "        \"\"\"获取城市的邻接城市\"\"\"\n",
    "        return self.neighbor\n",
    "\n",
    "    def get_vehicle_available(self):\n",
    "        \"\"\"获取可调度的车辆\"\"\"\n",
    "        return self.vehicle_available\n",
    "\n",
    "    def add_available_vehicle(self, vehicle_id):\n",
    "        \"\"\"增加可调度的车辆\"\"\"\n",
    "        if vehicle_id not in self.vehicle_available:\n",
    "            self.vehicle_available.append(vehicle_id)\n",
    "\n",
    "    def delete_available_vehicle(self, vehicle_id):\n",
    "        \"\"\"删去不可调度的车辆\"\"\"\n",
    "        if vehicle_id in self.vehicle_available:\n",
    "            self.vehicle_available.remove(vehicle_id)\n",
    "\n",
    "    def get_charging_capacity(self):\n",
    "        \"\"\"获取充电站容量\"\"\"\n",
    "        return self.charging_capacity\n",
    "\n",
    "    def get_real_departure(self):\n",
    "        \"\"\"获取实际出发点订单\"\"\"\n",
    "        return self.real_departure\n",
    "\n",
    "    def get_virtual_departure(self):\n",
    "        \"\"\"获取虚拟出发城市\"\"\"\n",
    "        return self.virtual_departure\n",
    "\n",
    "    def update_virtual_departure(self, new_virtual):\n",
    "        \"\"\"更新虚拟出发城市\"\"\"\n",
    "        self.virtual_departure = new_virtual\n"
   ]
  },
  {
   "cell_type": "markdown",
   "metadata": {},
   "source": [
    "## 调用Gurobi"
   ]
  },
  {
   "cell_type": "code",
   "execution_count": null,
   "metadata": {},
   "outputs": [],
   "source": [
    "from gurobipy import *"
   ]
  },
  {
   "cell_type": "code",
   "execution_count": null,
   "metadata": {},
   "outputs": [],
   "source": [
    "from gurobipy import *\n",
    "class Lower_Layer:\n",
    "\n",
    "    def __init__(self, num_vehicle, num_order, city_graph, city_node, Vehicle, Order ,name, group):\n",
    "\n",
    "        \"\"\"初始化vehicle的决策变量,为4*n的numpy列表,\n",
    "            即为[intercity, dispatching, charging, idling]\n",
    "        \"\"\"\n",
    "        self.num_vehicle = num_vehicle\n",
    "        \n",
    "        \"\"\"初始化order的决策变量,表示是否被匹配，以及匹配车辆，为2*n列表\"\"\"\n",
    "        self.x_order = num_order\n",
    "\n",
    "        \"\"\"传入几个类\"\"\"\n",
    "        self.city_graph = city_graph#类\n",
    "        self.city_node = city_node  #应当是字典\n",
    "        self.Vehicle = Vehicle      #应当是字典\n",
    "        self.Order = Order          #应当是字典\n",
    "\n",
    "        self.model = Model(name)\n",
    "\n",
    "    def _add_variable_vehicle(self):\n",
    "\n",
    "        self.X_Vehicle = self.model.addVars(self.num_vehicle, 4,\n",
    "                                            vtype=GRB.BINARY, name=\"var_vehicle\")\n",
    "    \n",
    "    def _add_variable_vehicle(self):\n",
    "        \"\"\"加入订单的决策变量,表示是否被某车辆匹配\"\"\"\n",
    "        self.X_Order = self.model.addVars(self.num_order, self.num_vehicle, \n",
    "                                                    vtype=GRB.BINARY, name=\"var_order\")\n",
    "    \n",
    "    def get_decision(self):\n",
    "        return self.X_Vehicle, self.X_order\n",
    "    \n",
    "    def _constrain_1(self):\n",
    "        \"\"\"先划成分，再扣帽子（指0和1）\"\"\"\n",
    "        \"\"\"对于在城市中的，能批添加则批添加\"\"\"\n",
    "        constraints_1_1 = [\n",
    "            (sum(self.X_Vehicle[v, c] for c in range(3)) == 1) for v in range(self.group[0])\n",
    "        ]\n",
    "        constraints_1_2 = [\n",
    "            (self.X_Vehicle[v, 3] == 0) for v in range(self.group[0])\n",
    "        ]\n",
    "\n",
    "        self.model.addConstrs(constraints_1_1, name=\"constraints_1_1\")\n",
    "        self.model.addConstrs(constraints_1_2, name=\"constraints_1_2\")\n",
    "\n",
    "    def _constrain_2(self):\n",
    "        \"\"\"对于在城市间的\"\"\"\n",
    "        constraints_2_1 = [\n",
    "            (sum(self.X_Vehicle[v, c] for c in range(3)) == 0) for v in range(self.group[0])\n",
    "        ]\n",
    "        constraints_2_2 = [\n",
    "            (self.X_Vehicle[v, 3] == 1) for v in range(self.group[0])\n",
    "        ]\n",
    "\n",
    "        self.model.addConstrs(constraints_2_1, name=\"constraints_2_1\")\n",
    "        self.model.addConstrs(constraints_2_2, name=\"constraints_2_2\")\n",
    "    \n",
    "    def _constrian_3(self):\n",
    "        \"\"\"要警惕成本，但主要是防止没电\"\"\"\n",
    "        \"\"\"足电，足车，客之信矣。必不得已而去，于斯三者何先？去电。必不得已而去，于斯二者何先？去车。\n",
    "        自古皆有死，客无信不立。\"\"\"\n",
    "        battery_demand = {}\n",
    "        for u in range(self.city_node):\n",
    "            battery_demand[u] = min(order.battery_demand() for order in self.city_node.get(u).get_virtual_departure())\n",
    "\n",
    "        constrain_3_1 = []\n",
    "        constrain_3_2 = []\n",
    "        constrain_3_3 = []\n",
    "        for v in range(self.group[0]):\n",
    "            vehicle = self.Vehicle.get(v)\n",
    "            for u in range(self.city_node):\n",
    "                if vehicle.whether_the_city(u):  #是否在该城市\n",
    "                    if vehicle.get_battery() < battery_demand[u]:         #是否电不够\n",
    "                        constrain_3_1.append(\n",
    "                                self.X_Order[order.get_id()] == 0\n",
    "                        ) # 不准你进行匹配\n",
    "                        constrain_3_2.append(\n",
    "                            self.X_Vehicle[v, 0]  == 0 # 这也许比设置后两项和为1更好，如果按照求解顺序的话，那么应当新设立一个组\n",
    "\n",
    "                        )\n",
    "                        self.low_battery.append(v) # 将此值传入后续的约束\n",
    "\n",
    "                    # 如果电可能够，但还是要防止错误匹配\n",
    "                    else:\n",
    "                        for order in self.city_node.get(u).get_virtual_departure():\n",
    "                            if vehicle.get_battery() <= order.battery_demand(): #对于电量小于的，要禁止匹配\n",
    "                                constrain_3_1.append(\n",
    "                                    self.X_Order[order.get_id(), vehicle.get_id()] == 0\n",
    "                                )\n",
    "                            else:\n",
    "                                pass\n",
    "                                # 写一下Dijkstra的路径交并问题\n",
    "                        \n",
    "                else:   #对于不存在此城中的，要禁止\n",
    "                    constrain_3_3.append(\n",
    "                        self.X_Order[order.get_id(), vehicle.get_id()] == 0 #赋值和判断有什么区别呢？\n",
    "                    )\n",
    "                            \n",
    "        self.model.addConstrs(constrain_3_1, name = \"constrains_3_1\")\n",
    "        self.model.addConstrs(constrain_3_2, name = \"constrains_3_2\")\n",
    "        self.model.addConstrs(constrain_3_3, name = \"constrain_3_3\")\n",
    "    \n",
    "    def _constrain_4(self):\n",
    "        \"\"\"限定订单匹配符合dijkstra结点\"\"\"\n",
    "        constrain_4 = []\n",
    "        for v in range(self.low_battery):\n",
    "\n",
    "    \n"
   ]
  },
  {
   "cell_type": "markdown",
   "metadata": {},
   "source": [
    "**constrain 1**\n",
    "$$x^k_u + y^k_u + z^k_u  = 1 $$\n",
    "$$x^k_{uv} = 0$$\n",
    "**constrain 2**\n",
    "$$x^k_u + y^k_u + z^k_u  = 0 $$\n",
    "$$x^k_{uv} = 1$$\n",
    "**constrain 3**  \n",
    "\n",
    "有点多"
   ]
  },
  {
   "cell_type": "code",
   "execution_count": 5,
   "metadata": {},
   "outputs": [],
   "source": []
  },
  {
   "cell_type": "code",
   "execution_count": null,
   "metadata": {},
   "outputs": [
    {
     "data": {
      "text/plain": [
       "{0: Vehicle(id=0, time=0, into_city=0, intercity=5, decision=IDLE, battery=17305.261972512875),\n",
       " 1: Vehicle(id=1, time=0, into_city=0, intercity=6, decision=IDLE, battery=10841.633426458193),\n",
       " 2: Vehicle(id=2, time=0, into_city=0, intercity=6, decision=IDLE, battery=6430.488175161816),\n",
       " 3: Vehicle(id=3, time=0, into_city=0, intercity=3, decision=IDLE, battery=4120.124676134123),\n",
       " 4: Vehicle(id=4, time=0, into_city=0, intercity=2, decision=IDLE, battery=17889.30734406593),\n",
       " 5: Vehicle(id=5, time=0, into_city=0, intercity=16, decision=IDLE, battery=9504.733833417637),\n",
       " 6: Vehicle(id=6, time=0, into_city=0, intercity=20, decision=IDLE, battery=14144.832490499522),\n",
       " 7: Vehicle(id=7, time=0, into_city=0, intercity=0, decision=IDLE, battery=12712.873600033372),\n",
       " 8: Vehicle(id=8, time=0, into_city=0, intercity=8, decision=IDLE, battery=227.0177080878666),\n",
       " 9: Vehicle(id=9, time=0, into_city=0, intercity=15, decision=IDLE, battery=17126.17329359615),\n",
       " 10: Vehicle(id=10, time=0, into_city=0, intercity=1, decision=IDLE, battery=139.46127298064548),\n",
       " 11: Vehicle(id=11, time=0, into_city=0, intercity=20, decision=IDLE, battery=13829.8458453471),\n",
       " 12: Vehicle(id=12, time=0, into_city=0, intercity=7, decision=IDLE, battery=10941.142217507675),\n",
       " 13: Vehicle(id=13, time=0, into_city=0, intercity=3, decision=IDLE, battery=15881.431143434227),\n",
       " 14: Vehicle(id=14, time=0, into_city=0, intercity=16, decision=IDLE, battery=611.3496691861986),\n",
       " 15: Vehicle(id=15, time=0, into_city=0, intercity=1, decision=IDLE, battery=2424.3731174299564),\n",
       " 16: Vehicle(id=16, time=0, into_city=0, intercity=19, decision=IDLE, battery=1062.410699954639),\n",
       " 17: Vehicle(id=17, time=0, into_city=0, intercity=5, decision=IDLE, battery=12346.6635814149),\n",
       " 18: Vehicle(id=18, time=0, into_city=0, intercity=1, decision=IDLE, battery=4234.702926836249),\n",
       " 19: Vehicle(id=19, time=0, into_city=0, intercity=13, decision=IDLE, battery=1057.0302295552935),\n",
       " 20: Vehicle(id=20, time=0, into_city=0, intercity=19, decision=IDLE, battery=15358.670010567675),\n",
       " 21: Vehicle(id=21, time=0, into_city=0, intercity=20, decision=IDLE, battery=11269.212651612574),\n",
       " 22: Vehicle(id=22, time=0, into_city=0, intercity=8, decision=IDLE, battery=8932.199116432563),\n",
       " 23: Vehicle(id=23, time=0, into_city=0, intercity=5, decision=IDLE, battery=16099.141282815446),\n",
       " 24: Vehicle(id=24, time=0, into_city=0, intercity=16, decision=IDLE, battery=11987.225407081283),\n",
       " 25: Vehicle(id=25, time=0, into_city=0, intercity=11, decision=IDLE, battery=1632.514685939508),\n",
       " 26: Vehicle(id=26, time=0, into_city=0, intercity=6, decision=IDLE, battery=15830.072451430555),\n",
       " 27: Vehicle(id=27, time=0, into_city=0, intercity=5, decision=IDLE, battery=2386.3307815278636),\n",
       " 28: Vehicle(id=28, time=0, into_city=0, intercity=3, decision=IDLE, battery=1257.9383000293574),\n",
       " 29: Vehicle(id=29, time=0, into_city=0, intercity=11, decision=IDLE, battery=1296.8225527776544)}"
      ]
     },
     "execution_count": 1,
     "metadata": {},
     "output_type": "execute_result"
    }
   ],
   "source": [
    "from gurobipy import *\n",
    "from typing import Dict\n",
    "from gurobipy import *\n",
    "from CITY_GRAPH import *\n",
    "from CITY_NODE import *\n",
    "from ORDER import *\n",
    "from VEHICLE import *\n",
    "from tool_func import *\n",
    "from Lower_Layer import *\n",
    "import SETTING\n",
    "import RL\n",
    "import importlib\n",
    "import tool_func\n",
    "\n",
    "num_vehicle = 300\n",
    "num_order = 500\n",
    "num_city = 20\n",
    "CAPACITY = 7\n",
    "row = [10, 3, 1, 10]\n",
    "Vehicles ={}\n",
    "revenue_vector=[]\n",
    "penalty_vector=[]\n",
    "\n",
    "\n",
    "# 创建矩阵\n",
    "matrix = np.tile(row, (num_vehicle, 1))\n",
    "Vehicles = vehicle_generator(num_vehicle, 20)\n",
    "orders_unmatched = {}\n",
    "G = CityGraph(num_city,0.3, (20,100))\n",
    "name = \"navie\"\n",
    "\n",
    "group = [list(range(0, num_vehicle-2)),list(range(num_vehicle-1, num_vehicle))]\n",
    "Orders, revenue_vector, penalty_vector = order_generator(num_order, 0, 19,CAPACITY ,10,G)\n",
    "\n",
    "for order in Orders.values():\n",
    "    orders_unmatched[order.id] = order\n",
    "orders_virtual = orders_unmatched\n",
    "city_node = city_node_generator(G,orders_virtual,Vehicles,orders_unmatched)\n",
    "Vehicles"
   ]
  },
  {
   "cell_type": "code",
   "execution_count": 2,
   "metadata": {},
   "outputs": [
    {
     "name": "stdout",
     "output_type": "stream",
     "text": [
      "Set parameter LicenseID to value 2584673\n"
     ]
    },
    {
     "name": "stderr",
     "output_type": "stream",
     "text": [
      "INFO:gurobipy:Set parameter LicenseID to value 2584673\n"
     ]
    },
    {
     "name": "stdout",
     "output_type": "stream",
     "text": [
      "436.08791501444955\n",
      "445.01010391583617\n",
      "2\n",
      "275.1075348071127\n",
      "273.59600412222835\n",
      "698.1121017236534\n",
      "276.18875401817485\n",
      "662.769994120598\n",
      "691.8025369671949\n",
      "664.8572799950753\n",
      "502.7946242338206\n",
      "289.3085253520738\n",
      "701.0715116309622\n",
      "Gurobi Optimizer version 12.0.0 build v12.0.0rc1 (win64 - Windows 11.0 (22631.2))\n"
     ]
    },
    {
     "name": "stderr",
     "output_type": "stream",
     "text": [
      "INFO:gurobipy:Gurobi Optimizer version 12.0.0 build v12.0.0rc1 (win64 - Windows 11.0 (22631.2))\n"
     ]
    },
    {
     "name": "stdout",
     "output_type": "stream",
     "text": [
      "\n"
     ]
    },
    {
     "name": "stderr",
     "output_type": "stream",
     "text": [
      "INFO:gurobipy:\n"
     ]
    },
    {
     "name": "stdout",
     "output_type": "stream",
     "text": [
      "CPU model: 12th Gen Intel(R) Core(TM) i5-12500H, instruction set [SSE2|AVX|AVX2]\n"
     ]
    },
    {
     "name": "stderr",
     "output_type": "stream",
     "text": [
      "INFO:gurobipy:CPU model: 12th Gen Intel(R) Core(TM) i5-12500H, instruction set [SSE2|AVX|AVX2]\n"
     ]
    },
    {
     "name": "stdout",
     "output_type": "stream",
     "text": [
      "Thread count: 12 physical cores, 16 logical processors, using up to 16 threads\n"
     ]
    },
    {
     "name": "stderr",
     "output_type": "stream",
     "text": [
      "INFO:gurobipy:Thread count: 12 physical cores, 16 logical processors, using up to 16 threads\n"
     ]
    },
    {
     "name": "stdout",
     "output_type": "stream",
     "text": [
      "\n"
     ]
    },
    {
     "name": "stderr",
     "output_type": "stream",
     "text": [
      "INFO:gurobipy:\n"
     ]
    },
    {
     "name": "stdout",
     "output_type": "stream",
     "text": [
      "Optimize a model with 282 rows, 1620 columns and 4923 nonzeros\n"
     ]
    },
    {
     "name": "stderr",
     "output_type": "stream",
     "text": [
      "INFO:gurobipy:Optimize a model with 282 rows, 1620 columns and 4923 nonzeros\n"
     ]
    },
    {
     "name": "stdout",
     "output_type": "stream",
     "text": [
      "Model fingerprint: 0x238efe9a\n"
     ]
    },
    {
     "name": "stderr",
     "output_type": "stream",
     "text": [
      "INFO:gurobipy:Model fingerprint: 0x238efe9a\n"
     ]
    },
    {
     "name": "stdout",
     "output_type": "stream",
     "text": [
      "Model has 1400 quadratic objective terms\n"
     ]
    },
    {
     "name": "stderr",
     "output_type": "stream",
     "text": [
      "INFO:gurobipy:Model has 1400 quadratic objective terms\n"
     ]
    },
    {
     "name": "stdout",
     "output_type": "stream",
     "text": [
      "Variable types: 0 continuous, 1620 integer (1620 binary)\n"
     ]
    },
    {
     "name": "stderr",
     "output_type": "stream",
     "text": [
      "INFO:gurobipy:Variable types: 0 continuous, 1620 integer (1620 binary)\n"
     ]
    },
    {
     "name": "stdout",
     "output_type": "stream",
     "text": [
      "Coefficient statistics:\n"
     ]
    },
    {
     "name": "stderr",
     "output_type": "stream",
     "text": [
      "INFO:gurobipy:Coefficient statistics:\n"
     ]
    },
    {
     "name": "stdout",
     "output_type": "stream",
     "text": [
      "  Matrix range     [1e+00, 7e+00]\n"
     ]
    },
    {
     "name": "stderr",
     "output_type": "stream",
     "text": [
      "INFO:gurobipy:  Matrix range     [1e+00, 7e+00]\n"
     ]
    },
    {
     "name": "stdout",
     "output_type": "stream",
     "text": [
      "  Objective range  [1e+00, 4e+01]\n"
     ]
    },
    {
     "name": "stderr",
     "output_type": "stream",
     "text": [
      "INFO:gurobipy:  Objective range  [1e+00, 4e+01]\n"
     ]
    },
    {
     "name": "stdout",
     "output_type": "stream",
     "text": [
      "  QObjective range [5e+04, 3e+05]\n"
     ]
    },
    {
     "name": "stderr",
     "output_type": "stream",
     "text": [
      "INFO:gurobipy:  QObjective range [5e+04, 3e+05]\n"
     ]
    },
    {
     "name": "stdout",
     "output_type": "stream",
     "text": [
      "  Bounds range     [1e+00, 1e+00]\n"
     ]
    },
    {
     "name": "stderr",
     "output_type": "stream",
     "text": [
      "INFO:gurobipy:  Bounds range     [1e+00, 1e+00]\n"
     ]
    },
    {
     "name": "stdout",
     "output_type": "stream",
     "text": [
      "  RHS range        [1e+00, 1e+01]\n"
     ]
    },
    {
     "name": "stderr",
     "output_type": "stream",
     "text": [
      "INFO:gurobipy:  RHS range        [1e+00, 1e+01]\n"
     ]
    },
    {
     "name": "stdout",
     "output_type": "stream",
     "text": [
      "Found heuristic solution: objective 822.0000000\n"
     ]
    },
    {
     "name": "stderr",
     "output_type": "stream",
     "text": [
      "INFO:gurobipy:Found heuristic solution: objective 822.0000000\n"
     ]
    },
    {
     "name": "stdout",
     "output_type": "stream",
     "text": [
      "Presolve removed 133 rows and 102 columns\n"
     ]
    },
    {
     "name": "stderr",
     "output_type": "stream",
     "text": [
      "INFO:gurobipy:Presolve removed 133 rows and 102 columns\n"
     ]
    },
    {
     "name": "stdout",
     "output_type": "stream",
     "text": [
      "Presolve time: 0.00s\n"
     ]
    },
    {
     "name": "stderr",
     "output_type": "stream",
     "text": [
      "INFO:gurobipy:Presolve time: 0.00s\n"
     ]
    },
    {
     "name": "stdout",
     "output_type": "stream",
     "text": [
      "Presolved: 1447 rows, 2816 columns, 8318 nonzeros\n"
     ]
    },
    {
     "name": "stderr",
     "output_type": "stream",
     "text": [
      "INFO:gurobipy:Presolved: 1447 rows, 2816 columns, 8318 nonzeros\n"
     ]
    },
    {
     "name": "stdout",
     "output_type": "stream",
     "text": [
      "Found heuristic solution: objective 862.0000000\n"
     ]
    },
    {
     "name": "stderr",
     "output_type": "stream",
     "text": [
      "INFO:gurobipy:Found heuristic solution: objective 862.0000000\n"
     ]
    },
    {
     "name": "stdout",
     "output_type": "stream",
     "text": [
      "Variable types: 0 continuous, 2816 integer (2816 binary)\n"
     ]
    },
    {
     "name": "stderr",
     "output_type": "stream",
     "text": [
      "INFO:gurobipy:Variable types: 0 continuous, 2816 integer (2816 binary)\n"
     ]
    },
    {
     "name": "stdout",
     "output_type": "stream",
     "text": [
      "\n"
     ]
    },
    {
     "name": "stderr",
     "output_type": "stream",
     "text": [
      "INFO:gurobipy:\n"
     ]
    },
    {
     "name": "stdout",
     "output_type": "stream",
     "text": [
      "Root relaxation: objective 3.595927e+06, 4711 iterations, 0.17 seconds (0.26 work units)\n"
     ]
    },
    {
     "name": "stderr",
     "output_type": "stream",
     "text": [
      "INFO:gurobipy:Root relaxation: objective 3.595927e+06, 4711 iterations, 0.17 seconds (0.26 work units)\n"
     ]
    },
    {
     "name": "stdout",
     "output_type": "stream",
     "text": [
      "\n"
     ]
    },
    {
     "name": "stderr",
     "output_type": "stream",
     "text": [
      "INFO:gurobipy:\n"
     ]
    },
    {
     "name": "stdout",
     "output_type": "stream",
     "text": [
      "    Nodes    |    Current Node    |     Objective Bounds      |     Work\n"
     ]
    },
    {
     "name": "stderr",
     "output_type": "stream",
     "text": [
      "INFO:gurobipy:    Nodes    |    Current Node    |     Objective Bounds      |     Work\n"
     ]
    },
    {
     "name": "stdout",
     "output_type": "stream",
     "text": [
      " Expl Unexpl |  Obj  Depth IntInf | Incumbent    BestBd   Gap | It/Node Time\n"
     ]
    },
    {
     "name": "stderr",
     "output_type": "stream",
     "text": [
      "INFO:gurobipy: Expl Unexpl |  Obj  Depth IntInf | Incumbent    BestBd   Gap | It/Node Time\n"
     ]
    },
    {
     "name": "stdout",
     "output_type": "stream",
     "text": [
      "\n"
     ]
    },
    {
     "name": "stderr",
     "output_type": "stream",
     "text": [
      "INFO:gurobipy:\n"
     ]
    },
    {
     "name": "stdout",
     "output_type": "stream",
     "text": [
      "     0     0 3595927.34    0 1363  862.00000 3595927.34      -     -    0s\n"
     ]
    },
    {
     "name": "stderr",
     "output_type": "stream",
     "text": [
      "INFO:gurobipy:     0     0 3595927.34    0 1363  862.00000 3595927.34      -     -    0s\n"
     ]
    },
    {
     "name": "stdout",
     "output_type": "stream",
     "text": [
      "H    0     0                    3182648.0000 3595927.34  13.0%     -    0s\n"
     ]
    },
    {
     "name": "stderr",
     "output_type": "stream",
     "text": [
      "INFO:gurobipy:H    0     0                    3182648.0000 3595927.34  13.0%     -    0s\n"
     ]
    },
    {
     "name": "stdout",
     "output_type": "stream",
     "text": [
      "H    0     0                    3319648.0000 3595927.34  8.32%     -    0s\n"
     ]
    },
    {
     "name": "stderr",
     "output_type": "stream",
     "text": [
      "INFO:gurobipy:H    0     0                    3319648.0000 3595927.34  8.32%     -    0s\n"
     ]
    },
    {
     "name": "stdout",
     "output_type": "stream",
     "text": [
      "H    0     0                    3513678.0000 3595927.34  2.34%     -    0s\n"
     ]
    },
    {
     "name": "stderr",
     "output_type": "stream",
     "text": [
      "INFO:gurobipy:H    0     0                    3513678.0000 3595927.34  2.34%     -    0s\n"
     ]
    },
    {
     "name": "stdout",
     "output_type": "stream",
     "text": [
      "H    0     0                    3540668.0000 3595867.60  1.56%     -    0s\n"
     ]
    },
    {
     "name": "stderr",
     "output_type": "stream",
     "text": [
      "INFO:gurobipy:H    0     0                    3540668.0000 3595867.60  1.56%     -    0s\n"
     ]
    },
    {
     "name": "stdout",
     "output_type": "stream",
     "text": [
      "H    0     0                    3540703.0000 3595867.60  1.56%     -    0s\n"
     ]
    },
    {
     "name": "stderr",
     "output_type": "stream",
     "text": [
      "INFO:gurobipy:H    0     0                    3540703.0000 3595867.60  1.56%     -    0s\n"
     ]
    },
    {
     "name": "stdout",
     "output_type": "stream",
     "text": [
      "H    0     0                    3568703.0000 3595867.60  0.76%     -    0s\n"
     ]
    },
    {
     "name": "stderr",
     "output_type": "stream",
     "text": [
      "INFO:gurobipy:H    0     0                    3568703.0000 3595867.60  0.76%     -    0s\n"
     ]
    },
    {
     "name": "stdout",
     "output_type": "stream",
     "text": [
      "     0     0 3595703.00    0 1216 3568703.00 3595703.00  0.76%     -    0s\n"
     ]
    },
    {
     "name": "stderr",
     "output_type": "stream",
     "text": [
      "INFO:gurobipy:     0     0 3595703.00    0 1216 3568703.00 3595703.00  0.76%     -    0s\n"
     ]
    },
    {
     "name": "stdout",
     "output_type": "stream",
     "text": [
      "     0     0 3595703.00    0  896 3568703.00 3595703.00  0.76%     -    1s\n"
     ]
    },
    {
     "name": "stderr",
     "output_type": "stream",
     "text": [
      "INFO:gurobipy:     0     0 3595703.00    0  896 3568703.00 3595703.00  0.76%     -    1s\n"
     ]
    },
    {
     "name": "stdout",
     "output_type": "stream",
     "text": [
      "     0     0 3595703.00    0  906 3568703.00 3595703.00  0.76%     -    1s\n"
     ]
    },
    {
     "name": "stderr",
     "output_type": "stream",
     "text": [
      "INFO:gurobipy:     0     0 3595703.00    0  906 3568703.00 3595703.00  0.76%     -    1s\n"
     ]
    },
    {
     "name": "stdout",
     "output_type": "stream",
     "text": [
      "     0     0 3595703.00    0  907 3568703.00 3595703.00  0.76%     -    1s\n"
     ]
    },
    {
     "name": "stderr",
     "output_type": "stream",
     "text": [
      "INFO:gurobipy:     0     0 3595703.00    0  907 3568703.00 3595703.00  0.76%     -    1s\n"
     ]
    },
    {
     "name": "stdout",
     "output_type": "stream",
     "text": [
      "     0     0 3595703.00    0  294 3568703.00 3595703.00  0.76%     -    1s\n"
     ]
    },
    {
     "name": "stderr",
     "output_type": "stream",
     "text": [
      "INFO:gurobipy:     0     0 3595703.00    0  294 3568703.00 3595703.00  0.76%     -    1s\n"
     ]
    },
    {
     "name": "stdout",
     "output_type": "stream",
     "text": [
      "     0     0 3595703.00    0  247 3568703.00 3595703.00  0.76%     -    1s\n"
     ]
    },
    {
     "name": "stderr",
     "output_type": "stream",
     "text": [
      "INFO:gurobipy:     0     0 3595703.00    0  247 3568703.00 3595703.00  0.76%     -    1s\n"
     ]
    },
    {
     "name": "stdout",
     "output_type": "stream",
     "text": [
      "     0     0 3595703.00    0  367 3568703.00 3595703.00  0.76%     -    1s\n"
     ]
    },
    {
     "name": "stderr",
     "output_type": "stream",
     "text": [
      "INFO:gurobipy:     0     0 3595703.00    0  367 3568703.00 3595703.00  0.76%     -    1s\n"
     ]
    },
    {
     "name": "stdout",
     "output_type": "stream",
     "text": [
      "     0     0 3595703.00    0  367 3568703.00 3595703.00  0.76%     -    1s\n"
     ]
    },
    {
     "name": "stderr",
     "output_type": "stream",
     "text": [
      "INFO:gurobipy:     0     0 3595703.00    0  367 3568703.00 3595703.00  0.76%     -    1s\n"
     ]
    },
    {
     "name": "stdout",
     "output_type": "stream",
     "text": [
      "     0     2 3595703.00    0  367 3568703.00 3595703.00  0.76%     -    1s\n"
     ]
    },
    {
     "name": "stderr",
     "output_type": "stream",
     "text": [
      "INFO:gurobipy:     0     2 3595703.00    0  367 3568703.00 3595703.00  0.76%     -    1s\n"
     ]
    },
    {
     "name": "stdout",
     "output_type": "stream",
     "text": [
      "\n"
     ]
    },
    {
     "name": "stderr",
     "output_type": "stream",
     "text": [
      "INFO:gurobipy:\n"
     ]
    },
    {
     "name": "stdout",
     "output_type": "stream",
     "text": [
      "Cutting planes:\n"
     ]
    },
    {
     "name": "stderr",
     "output_type": "stream",
     "text": [
      "INFO:gurobipy:Cutting planes:\n"
     ]
    },
    {
     "name": "stdout",
     "output_type": "stream",
     "text": [
      "  Gomory: 11\n"
     ]
    },
    {
     "name": "stderr",
     "output_type": "stream",
     "text": [
      "INFO:gurobipy:  Gomory: 11\n"
     ]
    },
    {
     "name": "stdout",
     "output_type": "stream",
     "text": [
      "  Cover: 66\n"
     ]
    },
    {
     "name": "stderr",
     "output_type": "stream",
     "text": [
      "INFO:gurobipy:  Cover: 66\n"
     ]
    },
    {
     "name": "stdout",
     "output_type": "stream",
     "text": [
      "  Clique: 11\n"
     ]
    },
    {
     "name": "stderr",
     "output_type": "stream",
     "text": [
      "INFO:gurobipy:  Clique: 11\n"
     ]
    },
    {
     "name": "stdout",
     "output_type": "stream",
     "text": [
      "  MIR: 76\n"
     ]
    },
    {
     "name": "stderr",
     "output_type": "stream",
     "text": [
      "INFO:gurobipy:  MIR: 76\n"
     ]
    },
    {
     "name": "stdout",
     "output_type": "stream",
     "text": [
      "  StrongCG: 16\n"
     ]
    },
    {
     "name": "stderr",
     "output_type": "stream",
     "text": [
      "INFO:gurobipy:  StrongCG: 16\n"
     ]
    },
    {
     "name": "stdout",
     "output_type": "stream",
     "text": [
      "  GUB cover: 1\n"
     ]
    },
    {
     "name": "stderr",
     "output_type": "stream",
     "text": [
      "INFO:gurobipy:  GUB cover: 1\n"
     ]
    },
    {
     "name": "stdout",
     "output_type": "stream",
     "text": [
      "  Zero half: 5\n"
     ]
    },
    {
     "name": "stderr",
     "output_type": "stream",
     "text": [
      "INFO:gurobipy:  Zero half: 5\n"
     ]
    },
    {
     "name": "stdout",
     "output_type": "stream",
     "text": [
      "  RLT: 37\n"
     ]
    },
    {
     "name": "stderr",
     "output_type": "stream",
     "text": [
      "INFO:gurobipy:  RLT: 37\n"
     ]
    },
    {
     "name": "stdout",
     "output_type": "stream",
     "text": [
      "  BQP: 139\n"
     ]
    },
    {
     "name": "stderr",
     "output_type": "stream",
     "text": [
      "INFO:gurobipy:  BQP: 139\n"
     ]
    },
    {
     "name": "stdout",
     "output_type": "stream",
     "text": [
      "\n"
     ]
    },
    {
     "name": "stderr",
     "output_type": "stream",
     "text": [
      "INFO:gurobipy:\n"
     ]
    },
    {
     "name": "stdout",
     "output_type": "stream",
     "text": [
      "Explored 15 nodes (20521 simplex iterations) in 2.06 seconds (2.87 work units)\n"
     ]
    },
    {
     "name": "stderr",
     "output_type": "stream",
     "text": [
      "INFO:gurobipy:Explored 15 nodes (20521 simplex iterations) in 2.06 seconds (2.87 work units)\n"
     ]
    },
    {
     "name": "stdout",
     "output_type": "stream",
     "text": [
      "Thread count was 16 (of 16 available processors)\n"
     ]
    },
    {
     "name": "stderr",
     "output_type": "stream",
     "text": [
      "INFO:gurobipy:Thread count was 16 (of 16 available processors)\n"
     ]
    },
    {
     "name": "stdout",
     "output_type": "stream",
     "text": [
      "\n"
     ]
    },
    {
     "name": "stderr",
     "output_type": "stream",
     "text": [
      "INFO:gurobipy:\n"
     ]
    },
    {
     "name": "stdout",
     "output_type": "stream",
     "text": [
      "Solution count 8: 3.5687e+06 3.5407e+06 3.54067e+06 ... 822\n"
     ]
    },
    {
     "name": "stderr",
     "output_type": "stream",
     "text": [
      "INFO:gurobipy:Solution count 8: 3.5687e+06 3.5407e+06 3.54067e+06 ... 822\n"
     ]
    },
    {
     "name": "stdout",
     "output_type": "stream",
     "text": [
      "\n"
     ]
    },
    {
     "name": "stderr",
     "output_type": "stream",
     "text": [
      "INFO:gurobipy:\n"
     ]
    },
    {
     "name": "stdout",
     "output_type": "stream",
     "text": [
      "Optimal solution found (tolerance 1.00e-04)\n"
     ]
    },
    {
     "name": "stderr",
     "output_type": "stream",
     "text": [
      "INFO:gurobipy:Optimal solution found (tolerance 1.00e-04)\n"
     ]
    },
    {
     "name": "stdout",
     "output_type": "stream",
     "text": [
      "Best objective 3.568703000000e+06, best bound 3.568703000000e+06, gap 0.0000%\n"
     ]
    },
    {
     "name": "stderr",
     "output_type": "stream",
     "text": [
      "INFO:gurobipy:Best objective 3.568703000000e+06, best bound 3.568703000000e+06, gap 0.0000%\n"
     ]
    },
    {
     "name": "stdout",
     "output_type": "stream",
     "text": [
      "Optimal solution:\n",
      "Objective value: 3568703.0\n",
      "{(0, 0): <gurobi.Var var_order[0,0] (value -0.0)>, (0, 1): <gurobi.Var var_order[0,1] (value -0.0)>, (0, 2): <gurobi.Var var_order[0,2] (value -0.0)>, (0, 3): <gurobi.Var var_order[0,3] (value -0.0)>, (0, 4): <gurobi.Var var_order[0,4] (value -0.0)>, (0, 5): <gurobi.Var var_order[0,5] (value -0.0)>, (0, 6): <gurobi.Var var_order[0,6] (value -0.0)>, (0, 7): <gurobi.Var var_order[0,7] (value -0.0)>, (0, 8): <gurobi.Var var_order[0,8] (value -0.0)>, (0, 9): <gurobi.Var var_order[0,9] (value -0.0)>, (0, 10): <gurobi.Var var_order[0,10] (value -0.0)>, (0, 11): <gurobi.Var var_order[0,11] (value 1.0)>, (0, 12): <gurobi.Var var_order[0,12] (value -0.0)>, (0, 13): <gurobi.Var var_order[0,13] (value -0.0)>, (0, 14): <gurobi.Var var_order[0,14] (value -0.0)>, (0, 15): <gurobi.Var var_order[0,15] (value -0.0)>, (0, 16): <gurobi.Var var_order[0,16] (value -0.0)>, (0, 17): <gurobi.Var var_order[0,17] (value -0.0)>, (0, 18): <gurobi.Var var_order[0,18] (value -0.0)>, (0, 19): <gurobi.Var var_order[0,19] (value -0.0)>, (0, 20): <gurobi.Var var_order[0,20] (value -0.0)>, (0, 21): <gurobi.Var var_order[0,21] (value -0.0)>, (0, 22): <gurobi.Var var_order[0,22] (value -0.0)>, (0, 23): <gurobi.Var var_order[0,23] (value -0.0)>, (0, 24): <gurobi.Var var_order[0,24] (value -0.0)>, (0, 25): <gurobi.Var var_order[0,25] (value -0.0)>, (0, 26): <gurobi.Var var_order[0,26] (value -0.0)>, (0, 27): <gurobi.Var var_order[0,27] (value -0.0)>, (0, 28): <gurobi.Var var_order[0,28] (value -0.0)>, (0, 29): <gurobi.Var var_order[0,29] (value -0.0)>, (1, 0): <gurobi.Var var_order[1,0] (value -0.0)>, (1, 1): <gurobi.Var var_order[1,1] (value -0.0)>, (1, 2): <gurobi.Var var_order[1,2] (value -0.0)>, (1, 3): <gurobi.Var var_order[1,3] (value -0.0)>, (1, 4): <gurobi.Var var_order[1,4] (value -0.0)>, (1, 5): <gurobi.Var var_order[1,5] (value -0.0)>, (1, 6): <gurobi.Var var_order[1,6] (value -0.0)>, (1, 7): <gurobi.Var var_order[1,7] (value -0.0)>, (1, 8): <gurobi.Var var_order[1,8] (value -0.0)>, (1, 9): <gurobi.Var var_order[1,9] (value -0.0)>, (1, 10): <gurobi.Var var_order[1,10] (value -0.0)>, (1, 11): <gurobi.Var var_order[1,11] (value -0.0)>, (1, 12): <gurobi.Var var_order[1,12] (value -0.0)>, (1, 13): <gurobi.Var var_order[1,13] (value -0.0)>, (1, 14): <gurobi.Var var_order[1,14] (value -0.0)>, (1, 15): <gurobi.Var var_order[1,15] (value -0.0)>, (1, 16): <gurobi.Var var_order[1,16] (value -0.0)>, (1, 17): <gurobi.Var var_order[1,17] (value -0.0)>, (1, 18): <gurobi.Var var_order[1,18] (value -0.0)>, (1, 19): <gurobi.Var var_order[1,19] (value -0.0)>, (1, 20): <gurobi.Var var_order[1,20] (value -0.0)>, (1, 21): <gurobi.Var var_order[1,21] (value 1.0)>, (1, 22): <gurobi.Var var_order[1,22] (value -0.0)>, (1, 23): <gurobi.Var var_order[1,23] (value -0.0)>, (1, 24): <gurobi.Var var_order[1,24] (value -0.0)>, (1, 25): <gurobi.Var var_order[1,25] (value -0.0)>, (1, 26): <gurobi.Var var_order[1,26] (value -0.0)>, (1, 27): <gurobi.Var var_order[1,27] (value -0.0)>, (1, 28): <gurobi.Var var_order[1,28] (value -0.0)>, (1, 29): <gurobi.Var var_order[1,29] (value -0.0)>, (2, 0): <gurobi.Var var_order[2,0] (value -0.0)>, (2, 1): <gurobi.Var var_order[2,1] (value -0.0)>, (2, 2): <gurobi.Var var_order[2,2] (value -0.0)>, (2, 3): <gurobi.Var var_order[2,3] (value -0.0)>, (2, 4): <gurobi.Var var_order[2,4] (value -0.0)>, (2, 5): <gurobi.Var var_order[2,5] (value -0.0)>, (2, 6): <gurobi.Var var_order[2,6] (value 1.0)>, (2, 7): <gurobi.Var var_order[2,7] (value -0.0)>, (2, 8): <gurobi.Var var_order[2,8] (value -0.0)>, (2, 9): <gurobi.Var var_order[2,9] (value -0.0)>, (2, 10): <gurobi.Var var_order[2,10] (value -0.0)>, (2, 11): <gurobi.Var var_order[2,11] (value -0.0)>, (2, 12): <gurobi.Var var_order[2,12] (value -0.0)>, (2, 13): <gurobi.Var var_order[2,13] (value -0.0)>, (2, 14): <gurobi.Var var_order[2,14] (value -0.0)>, (2, 15): <gurobi.Var var_order[2,15] (value -0.0)>, (2, 16): <gurobi.Var var_order[2,16] (value -0.0)>, (2, 17): <gurobi.Var var_order[2,17] (value -0.0)>, (2, 18): <gurobi.Var var_order[2,18] (value -0.0)>, (2, 19): <gurobi.Var var_order[2,19] (value -0.0)>, (2, 20): <gurobi.Var var_order[2,20] (value -0.0)>, (2, 21): <gurobi.Var var_order[2,21] (value -0.0)>, (2, 22): <gurobi.Var var_order[2,22] (value -0.0)>, (2, 23): <gurobi.Var var_order[2,23] (value -0.0)>, (2, 24): <gurobi.Var var_order[2,24] (value -0.0)>, (2, 25): <gurobi.Var var_order[2,25] (value -0.0)>, (2, 26): <gurobi.Var var_order[2,26] (value -0.0)>, (2, 27): <gurobi.Var var_order[2,27] (value -0.0)>, (2, 28): <gurobi.Var var_order[2,28] (value -0.0)>, (2, 29): <gurobi.Var var_order[2,29] (value -0.0)>, (3, 0): <gurobi.Var var_order[3,0] (value -0.0)>, (3, 1): <gurobi.Var var_order[3,1] (value -0.0)>, (3, 2): <gurobi.Var var_order[3,2] (value -0.0)>, (3, 3): <gurobi.Var var_order[3,3] (value -0.0)>, (3, 4): <gurobi.Var var_order[3,4] (value -0.0)>, (3, 5): <gurobi.Var var_order[3,5] (value -0.0)>, (3, 6): <gurobi.Var var_order[3,6] (value -0.0)>, (3, 7): <gurobi.Var var_order[3,7] (value -0.0)>, (3, 8): <gurobi.Var var_order[3,8] (value -0.0)>, (3, 9): <gurobi.Var var_order[3,9] (value -0.0)>, (3, 10): <gurobi.Var var_order[3,10] (value -0.0)>, (3, 11): <gurobi.Var var_order[3,11] (value -0.0)>, (3, 12): <gurobi.Var var_order[3,12] (value -0.0)>, (3, 13): <gurobi.Var var_order[3,13] (value -0.0)>, (3, 14): <gurobi.Var var_order[3,14] (value 1.0)>, (3, 15): <gurobi.Var var_order[3,15] (value -0.0)>, (3, 16): <gurobi.Var var_order[3,16] (value -0.0)>, (3, 17): <gurobi.Var var_order[3,17] (value -0.0)>, (3, 18): <gurobi.Var var_order[3,18] (value -0.0)>, (3, 19): <gurobi.Var var_order[3,19] (value -0.0)>, (3, 20): <gurobi.Var var_order[3,20] (value -0.0)>, (3, 21): <gurobi.Var var_order[3,21] (value -0.0)>, (3, 22): <gurobi.Var var_order[3,22] (value -0.0)>, (3, 23): <gurobi.Var var_order[3,23] (value -0.0)>, (3, 24): <gurobi.Var var_order[3,24] (value -0.0)>, (3, 25): <gurobi.Var var_order[3,25] (value -0.0)>, (3, 26): <gurobi.Var var_order[3,26] (value -0.0)>, (3, 27): <gurobi.Var var_order[3,27] (value -0.0)>, (3, 28): <gurobi.Var var_order[3,28] (value -0.0)>, (3, 29): <gurobi.Var var_order[3,29] (value -0.0)>, (4, 0): <gurobi.Var var_order[4,0] (value -0.0)>, (4, 1): <gurobi.Var var_order[4,1] (value -0.0)>, (4, 2): <gurobi.Var var_order[4,2] (value -0.0)>, (4, 3): <gurobi.Var var_order[4,3] (value -0.0)>, (4, 4): <gurobi.Var var_order[4,4] (value -0.0)>, (4, 5): <gurobi.Var var_order[4,5] (value -0.0)>, (4, 6): <gurobi.Var var_order[4,6] (value -0.0)>, (4, 7): <gurobi.Var var_order[4,7] (value -0.0)>, (4, 8): <gurobi.Var var_order[4,8] (value -0.0)>, (4, 9): <gurobi.Var var_order[4,9] (value -0.0)>, (4, 10): <gurobi.Var var_order[4,10] (value -0.0)>, (4, 11): <gurobi.Var var_order[4,11] (value -0.0)>, (4, 12): <gurobi.Var var_order[4,12] (value -0.0)>, (4, 13): <gurobi.Var var_order[4,13] (value -0.0)>, (4, 14): <gurobi.Var var_order[4,14] (value -0.0)>, (4, 15): <gurobi.Var var_order[4,15] (value -0.0)>, (4, 16): <gurobi.Var var_order[4,16] (value -0.0)>, (4, 17): <gurobi.Var var_order[4,17] (value -0.0)>, (4, 18): <gurobi.Var var_order[4,18] (value -0.0)>, (4, 19): <gurobi.Var var_order[4,19] (value -0.0)>, (4, 20): <gurobi.Var var_order[4,20] (value -0.0)>, (4, 21): <gurobi.Var var_order[4,21] (value -0.0)>, (4, 22): <gurobi.Var var_order[4,22] (value -0.0)>, (4, 23): <gurobi.Var var_order[4,23] (value -0.0)>, (4, 24): <gurobi.Var var_order[4,24] (value 1.0)>, (4, 25): <gurobi.Var var_order[4,25] (value -0.0)>, (4, 26): <gurobi.Var var_order[4,26] (value -0.0)>, (4, 27): <gurobi.Var var_order[4,27] (value -0.0)>, (4, 28): <gurobi.Var var_order[4,28] (value -0.0)>, (4, 29): <gurobi.Var var_order[4,29] (value -0.0)>, (5, 0): <gurobi.Var var_order[5,0] (value -0.0)>, (5, 1): <gurobi.Var var_order[5,1] (value -0.0)>, (5, 2): <gurobi.Var var_order[5,2] (value 1.0)>, (5, 3): <gurobi.Var var_order[5,3] (value -0.0)>, (5, 4): <gurobi.Var var_order[5,4] (value -0.0)>, (5, 5): <gurobi.Var var_order[5,5] (value -0.0)>, (5, 6): <gurobi.Var var_order[5,6] (value -0.0)>, (5, 7): <gurobi.Var var_order[5,7] (value -0.0)>, (5, 8): <gurobi.Var var_order[5,8] (value -0.0)>, (5, 9): <gurobi.Var var_order[5,9] (value -0.0)>, (5, 10): <gurobi.Var var_order[5,10] (value 0.0)>, (5, 11): <gurobi.Var var_order[5,11] (value -0.0)>, (5, 12): <gurobi.Var var_order[5,12] (value -0.0)>, (5, 13): <gurobi.Var var_order[5,13] (value -0.0)>, (5, 14): <gurobi.Var var_order[5,14] (value -0.0)>, (5, 15): <gurobi.Var var_order[5,15] (value -0.0)>, (5, 16): <gurobi.Var var_order[5,16] (value -0.0)>, (5, 17): <gurobi.Var var_order[5,17] (value -0.0)>, (5, 18): <gurobi.Var var_order[5,18] (value -0.0)>, (5, 19): <gurobi.Var var_order[5,19] (value -0.0)>, (5, 20): <gurobi.Var var_order[5,20] (value -0.0)>, (5, 21): <gurobi.Var var_order[5,21] (value -0.0)>, (5, 22): <gurobi.Var var_order[5,22] (value -0.0)>, (5, 23): <gurobi.Var var_order[5,23] (value -0.0)>, (5, 24): <gurobi.Var var_order[5,24] (value -0.0)>, (5, 25): <gurobi.Var var_order[5,25] (value -0.0)>, (5, 26): <gurobi.Var var_order[5,26] (value -0.0)>, (5, 27): <gurobi.Var var_order[5,27] (value -0.0)>, (5, 28): <gurobi.Var var_order[5,28] (value -0.0)>, (5, 29): <gurobi.Var var_order[5,29] (value -0.0)>, (6, 0): <gurobi.Var var_order[6,0] (value -0.0)>, (6, 1): <gurobi.Var var_order[6,1] (value -0.0)>, (6, 2): <gurobi.Var var_order[6,2] (value -0.0)>, (6, 3): <gurobi.Var var_order[6,3] (value -0.0)>, (6, 4): <gurobi.Var var_order[6,4] (value -0.0)>, (6, 5): <gurobi.Var var_order[6,5] (value -0.0)>, (6, 6): <gurobi.Var var_order[6,6] (value -0.0)>, (6, 7): <gurobi.Var var_order[6,7] (value -0.0)>, (6, 8): <gurobi.Var var_order[6,8] (value -0.0)>, (6, 9): <gurobi.Var var_order[6,9] (value -0.0)>, (6, 10): <gurobi.Var var_order[6,10] (value -0.0)>, (6, 11): <gurobi.Var var_order[6,11] (value -0.0)>, (6, 12): <gurobi.Var var_order[6,12] (value -0.0)>, (6, 13): <gurobi.Var var_order[6,13] (value -0.0)>, (6, 14): <gurobi.Var var_order[6,14] (value -0.0)>, (6, 15): <gurobi.Var var_order[6,15] (value 1.0)>, (6, 16): <gurobi.Var var_order[6,16] (value -0.0)>, (6, 17): <gurobi.Var var_order[6,17] (value -0.0)>, (6, 18): <gurobi.Var var_order[6,18] (value -0.0)>, (6, 19): <gurobi.Var var_order[6,19] (value -0.0)>, (6, 20): <gurobi.Var var_order[6,20] (value -0.0)>, (6, 21): <gurobi.Var var_order[6,21] (value -0.0)>, (6, 22): <gurobi.Var var_order[6,22] (value -0.0)>, (6, 23): <gurobi.Var var_order[6,23] (value -0.0)>, (6, 24): <gurobi.Var var_order[6,24] (value -0.0)>, (6, 25): <gurobi.Var var_order[6,25] (value -0.0)>, (6, 26): <gurobi.Var var_order[6,26] (value -0.0)>, (6, 27): <gurobi.Var var_order[6,27] (value -0.0)>, (6, 28): <gurobi.Var var_order[6,28] (value -0.0)>, (6, 29): <gurobi.Var var_order[6,29] (value -0.0)>, (7, 0): <gurobi.Var var_order[7,0] (value -0.0)>, (7, 1): <gurobi.Var var_order[7,1] (value -0.0)>, (7, 2): <gurobi.Var var_order[7,2] (value -0.0)>, (7, 3): <gurobi.Var var_order[7,3] (value -0.0)>, (7, 4): <gurobi.Var var_order[7,4] (value -0.0)>, (7, 5): <gurobi.Var var_order[7,5] (value 1.0)>, (7, 6): <gurobi.Var var_order[7,6] (value -0.0)>, (7, 7): <gurobi.Var var_order[7,7] (value -0.0)>, (7, 8): <gurobi.Var var_order[7,8] (value 0.0)>, (7, 9): <gurobi.Var var_order[7,9] (value -0.0)>, (7, 10): <gurobi.Var var_order[7,10] (value -0.0)>, (7, 11): <gurobi.Var var_order[7,11] (value -0.0)>, (7, 12): <gurobi.Var var_order[7,12] (value -0.0)>, (7, 13): <gurobi.Var var_order[7,13] (value -0.0)>, (7, 14): <gurobi.Var var_order[7,14] (value -0.0)>, (7, 15): <gurobi.Var var_order[7,15] (value -0.0)>, (7, 16): <gurobi.Var var_order[7,16] (value -0.0)>, (7, 17): <gurobi.Var var_order[7,17] (value -0.0)>, (7, 18): <gurobi.Var var_order[7,18] (value -0.0)>, (7, 19): <gurobi.Var var_order[7,19] (value -0.0)>, (7, 20): <gurobi.Var var_order[7,20] (value -0.0)>, (7, 21): <gurobi.Var var_order[7,21] (value -0.0)>, (7, 22): <gurobi.Var var_order[7,22] (value -0.0)>, (7, 23): <gurobi.Var var_order[7,23] (value -0.0)>, (7, 24): <gurobi.Var var_order[7,24] (value -0.0)>, (7, 25): <gurobi.Var var_order[7,25] (value -0.0)>, (7, 26): <gurobi.Var var_order[7,26] (value -0.0)>, (7, 27): <gurobi.Var var_order[7,27] (value -0.0)>, (7, 28): <gurobi.Var var_order[7,28] (value -0.0)>, (7, 29): <gurobi.Var var_order[7,29] (value -0.0)>, (8, 0): <gurobi.Var var_order[8,0] (value -0.0)>, (8, 1): <gurobi.Var var_order[8,1] (value -0.0)>, (8, 2): <gurobi.Var var_order[8,2] (value -0.0)>, (8, 3): <gurobi.Var var_order[8,3] (value -0.0)>, (8, 4): <gurobi.Var var_order[8,4] (value -0.0)>, (8, 5): <gurobi.Var var_order[8,5] (value -0.0)>, (8, 6): <gurobi.Var var_order[8,6] (value -0.0)>, (8, 7): <gurobi.Var var_order[8,7] (value -0.0)>, (8, 8): <gurobi.Var var_order[8,8] (value -0.0)>, (8, 9): <gurobi.Var var_order[8,9] (value -0.0)>, (8, 10): <gurobi.Var var_order[8,10] (value 0.0)>, (8, 11): <gurobi.Var var_order[8,11] (value -0.0)>, (8, 12): <gurobi.Var var_order[8,12] (value -0.0)>, (8, 13): <gurobi.Var var_order[8,13] (value -0.0)>, (8, 14): <gurobi.Var var_order[8,14] (value -0.0)>, (8, 15): <gurobi.Var var_order[8,15] (value -0.0)>, (8, 16): <gurobi.Var var_order[8,16] (value -0.0)>, (8, 17): <gurobi.Var var_order[8,17] (value -0.0)>, (8, 18): <gurobi.Var var_order[8,18] (value -0.0)>, (8, 19): <gurobi.Var var_order[8,19] (value -0.0)>, (8, 20): <gurobi.Var var_order[8,20] (value -0.0)>, (8, 21): <gurobi.Var var_order[8,21] (value -0.0)>, (8, 22): <gurobi.Var var_order[8,22] (value -0.0)>, (8, 23): <gurobi.Var var_order[8,23] (value -0.0)>, (8, 24): <gurobi.Var var_order[8,24] (value -0.0)>, (8, 25): <gurobi.Var var_order[8,25] (value 1.0)>, (8, 26): <gurobi.Var var_order[8,26] (value -0.0)>, (8, 27): <gurobi.Var var_order[8,27] (value -0.0)>, (8, 28): <gurobi.Var var_order[8,28] (value -0.0)>, (8, 29): <gurobi.Var var_order[8,29] (value -0.0)>, (9, 0): <gurobi.Var var_order[9,0] (value -0.0)>, (9, 1): <gurobi.Var var_order[9,1] (value -0.0)>, (9, 2): <gurobi.Var var_order[9,2] (value -0.0)>, (9, 3): <gurobi.Var var_order[9,3] (value -0.0)>, (9, 4): <gurobi.Var var_order[9,4] (value -0.0)>, (9, 5): <gurobi.Var var_order[9,5] (value -0.0)>, (9, 6): <gurobi.Var var_order[9,6] (value -0.0)>, (9, 7): <gurobi.Var var_order[9,7] (value -0.0)>, (9, 8): <gurobi.Var var_order[9,8] (value -0.0)>, (9, 9): <gurobi.Var var_order[9,9] (value -0.0)>, (9, 10): <gurobi.Var var_order[9,10] (value -0.0)>, (9, 11): <gurobi.Var var_order[9,11] (value -0.0)>, (9, 12): <gurobi.Var var_order[9,12] (value -0.0)>, (9, 13): <gurobi.Var var_order[9,13] (value -0.0)>, (9, 14): <gurobi.Var var_order[9,14] (value -0.0)>, (9, 15): <gurobi.Var var_order[9,15] (value -0.0)>, (9, 16): <gurobi.Var var_order[9,16] (value -0.0)>, (9, 17): <gurobi.Var var_order[9,17] (value -0.0)>, (9, 18): <gurobi.Var var_order[9,18] (value -0.0)>, (9, 19): <gurobi.Var var_order[9,19] (value -0.0)>, (9, 20): <gurobi.Var var_order[9,20] (value -0.0)>, (9, 21): <gurobi.Var var_order[9,21] (value -0.0)>, (9, 22): <gurobi.Var var_order[9,22] (value -0.0)>, (9, 23): <gurobi.Var var_order[9,23] (value -0.0)>, (9, 24): <gurobi.Var var_order[9,24] (value -0.0)>, (9, 25): <gurobi.Var var_order[9,25] (value -0.0)>, (9, 26): <gurobi.Var var_order[9,26] (value 1.0)>, (9, 27): <gurobi.Var var_order[9,27] (value -0.0)>, (9, 28): <gurobi.Var var_order[9,28] (value -0.0)>, (9, 29): <gurobi.Var var_order[9,29] (value -0.0)>, (10, 0): <gurobi.Var var_order[10,0] (value -0.0)>, (10, 1): <gurobi.Var var_order[10,1] (value -0.0)>, (10, 2): <gurobi.Var var_order[10,2] (value -0.0)>, (10, 3): <gurobi.Var var_order[10,3] (value -0.0)>, (10, 4): <gurobi.Var var_order[10,4] (value -0.0)>, (10, 5): <gurobi.Var var_order[10,5] (value -0.0)>, (10, 6): <gurobi.Var var_order[10,6] (value -0.0)>, (10, 7): <gurobi.Var var_order[10,7] (value -0.0)>, (10, 8): <gurobi.Var var_order[10,8] (value -0.0)>, (10, 9): <gurobi.Var var_order[10,9] (value -0.0)>, (10, 10): <gurobi.Var var_order[10,10] (value -0.0)>, (10, 11): <gurobi.Var var_order[10,11] (value -0.0)>, (10, 12): <gurobi.Var var_order[10,12] (value -0.0)>, (10, 13): <gurobi.Var var_order[10,13] (value -0.0)>, (10, 14): <gurobi.Var var_order[10,14] (value -0.0)>, (10, 15): <gurobi.Var var_order[10,15] (value -0.0)>, (10, 16): <gurobi.Var var_order[10,16] (value -0.0)>, (10, 17): <gurobi.Var var_order[10,17] (value -0.0)>, (10, 18): <gurobi.Var var_order[10,18] (value -0.0)>, (10, 19): <gurobi.Var var_order[10,19] (value -0.0)>, (10, 20): <gurobi.Var var_order[10,20] (value -0.0)>, (10, 21): <gurobi.Var var_order[10,21] (value -0.0)>, (10, 22): <gurobi.Var var_order[10,22] (value -0.0)>, (10, 23): <gurobi.Var var_order[10,23] (value -0.0)>, (10, 24): <gurobi.Var var_order[10,24] (value -0.0)>, (10, 25): <gurobi.Var var_order[10,25] (value -0.0)>, (10, 26): <gurobi.Var var_order[10,26] (value -0.0)>, (10, 27): <gurobi.Var var_order[10,27] (value 1.0)>, (10, 28): <gurobi.Var var_order[10,28] (value -0.0)>, (10, 29): <gurobi.Var var_order[10,29] (value -0.0)>, (11, 0): <gurobi.Var var_order[11,0] (value -0.0)>, (11, 1): <gurobi.Var var_order[11,1] (value -0.0)>, (11, 2): <gurobi.Var var_order[11,2] (value -0.0)>, (11, 3): <gurobi.Var var_order[11,3] (value -0.0)>, (11, 4): <gurobi.Var var_order[11,4] (value 1.0)>, (11, 5): <gurobi.Var var_order[11,5] (value -0.0)>, (11, 6): <gurobi.Var var_order[11,6] (value -0.0)>, (11, 7): <gurobi.Var var_order[11,7] (value -0.0)>, (11, 8): <gurobi.Var var_order[11,8] (value -0.0)>, (11, 9): <gurobi.Var var_order[11,9] (value -0.0)>, (11, 10): <gurobi.Var var_order[11,10] (value -0.0)>, (11, 11): <gurobi.Var var_order[11,11] (value -0.0)>, (11, 12): <gurobi.Var var_order[11,12] (value -0.0)>, (11, 13): <gurobi.Var var_order[11,13] (value -0.0)>, (11, 14): <gurobi.Var var_order[11,14] (value -0.0)>, (11, 15): <gurobi.Var var_order[11,15] (value -0.0)>, (11, 16): <gurobi.Var var_order[11,16] (value -0.0)>, (11, 17): <gurobi.Var var_order[11,17] (value -0.0)>, (11, 18): <gurobi.Var var_order[11,18] (value -0.0)>, (11, 19): <gurobi.Var var_order[11,19] (value -0.0)>, (11, 20): <gurobi.Var var_order[11,20] (value -0.0)>, (11, 21): <gurobi.Var var_order[11,21] (value -0.0)>, (11, 22): <gurobi.Var var_order[11,22] (value -0.0)>, (11, 23): <gurobi.Var var_order[11,23] (value -0.0)>, (11, 24): <gurobi.Var var_order[11,24] (value -0.0)>, (11, 25): <gurobi.Var var_order[11,25] (value -0.0)>, (11, 26): <gurobi.Var var_order[11,26] (value -0.0)>, (11, 27): <gurobi.Var var_order[11,27] (value -0.0)>, (11, 28): <gurobi.Var var_order[11,28] (value -0.0)>, (11, 29): <gurobi.Var var_order[11,29] (value -0.0)>, (12, 0): <gurobi.Var var_order[12,0] (value -0.0)>, (12, 1): <gurobi.Var var_order[12,1] (value -0.0)>, (12, 2): <gurobi.Var var_order[12,2] (value 1.0)>, (12, 3): <gurobi.Var var_order[12,3] (value -0.0)>, (12, 4): <gurobi.Var var_order[12,4] (value -0.0)>, (12, 5): <gurobi.Var var_order[12,5] (value -0.0)>, (12, 6): <gurobi.Var var_order[12,6] (value -0.0)>, (12, 7): <gurobi.Var var_order[12,7] (value -0.0)>, (12, 8): <gurobi.Var var_order[12,8] (value -0.0)>, (12, 9): <gurobi.Var var_order[12,9] (value -0.0)>, (12, 10): <gurobi.Var var_order[12,10] (value -0.0)>, (12, 11): <gurobi.Var var_order[12,11] (value -0.0)>, (12, 12): <gurobi.Var var_order[12,12] (value -0.0)>, (12, 13): <gurobi.Var var_order[12,13] (value -0.0)>, (12, 14): <gurobi.Var var_order[12,14] (value 0.0)>, (12, 15): <gurobi.Var var_order[12,15] (value -0.0)>, (12, 16): <gurobi.Var var_order[12,16] (value -0.0)>, (12, 17): <gurobi.Var var_order[12,17] (value -0.0)>, (12, 18): <gurobi.Var var_order[12,18] (value -0.0)>, (12, 19): <gurobi.Var var_order[12,19] (value -0.0)>, (12, 20): <gurobi.Var var_order[12,20] (value -0.0)>, (12, 21): <gurobi.Var var_order[12,21] (value -0.0)>, (12, 22): <gurobi.Var var_order[12,22] (value -0.0)>, (12, 23): <gurobi.Var var_order[12,23] (value -0.0)>, (12, 24): <gurobi.Var var_order[12,24] (value -0.0)>, (12, 25): <gurobi.Var var_order[12,25] (value -0.0)>, (12, 26): <gurobi.Var var_order[12,26] (value -0.0)>, (12, 27): <gurobi.Var var_order[12,27] (value -0.0)>, (12, 28): <gurobi.Var var_order[12,28] (value -0.0)>, (12, 29): <gurobi.Var var_order[12,29] (value -0.0)>, (13, 0): <gurobi.Var var_order[13,0] (value -0.0)>, (13, 1): <gurobi.Var var_order[13,1] (value -0.0)>, (13, 2): <gurobi.Var var_order[13,2] (value -0.0)>, (13, 3): <gurobi.Var var_order[13,3] (value -0.0)>, (13, 4): <gurobi.Var var_order[13,4] (value -0.0)>, (13, 5): <gurobi.Var var_order[13,5] (value -0.0)>, (13, 6): <gurobi.Var var_order[13,6] (value -0.0)>, (13, 7): <gurobi.Var var_order[13,7] (value -0.0)>, (13, 8): <gurobi.Var var_order[13,8] (value -0.0)>, (13, 9): <gurobi.Var var_order[13,9] (value -0.0)>, (13, 10): <gurobi.Var var_order[13,10] (value 0.0)>, (13, 11): <gurobi.Var var_order[13,11] (value -0.0)>, (13, 12): <gurobi.Var var_order[13,12] (value -0.0)>, (13, 13): <gurobi.Var var_order[13,13] (value -0.0)>, (13, 14): <gurobi.Var var_order[13,14] (value -0.0)>, (13, 15): <gurobi.Var var_order[13,15] (value -0.0)>, (13, 16): <gurobi.Var var_order[13,16] (value -0.0)>, (13, 17): <gurobi.Var var_order[13,17] (value 1.0)>, (13, 18): <gurobi.Var var_order[13,18] (value -0.0)>, (13, 19): <gurobi.Var var_order[13,19] (value -0.0)>, (13, 20): <gurobi.Var var_order[13,20] (value -0.0)>, (13, 21): <gurobi.Var var_order[13,21] (value -0.0)>, (13, 22): <gurobi.Var var_order[13,22] (value -0.0)>, (13, 23): <gurobi.Var var_order[13,23] (value -0.0)>, (13, 24): <gurobi.Var var_order[13,24] (value -0.0)>, (13, 25): <gurobi.Var var_order[13,25] (value -0.0)>, (13, 26): <gurobi.Var var_order[13,26] (value -0.0)>, (13, 27): <gurobi.Var var_order[13,27] (value -0.0)>, (13, 28): <gurobi.Var var_order[13,28] (value -0.0)>, (13, 29): <gurobi.Var var_order[13,29] (value -0.0)>, (14, 0): <gurobi.Var var_order[14,0] (value -0.0)>, (14, 1): <gurobi.Var var_order[14,1] (value -0.0)>, (14, 2): <gurobi.Var var_order[14,2] (value -0.0)>, (14, 3): <gurobi.Var var_order[14,3] (value -0.0)>, (14, 4): <gurobi.Var var_order[14,4] (value -0.0)>, (14, 5): <gurobi.Var var_order[14,5] (value -0.0)>, (14, 6): <gurobi.Var var_order[14,6] (value -0.0)>, (14, 7): <gurobi.Var var_order[14,7] (value -0.0)>, (14, 8): <gurobi.Var var_order[14,8] (value -0.0)>, (14, 9): <gurobi.Var var_order[14,9] (value -0.0)>, (14, 10): <gurobi.Var var_order[14,10] (value -0.0)>, (14, 11): <gurobi.Var var_order[14,11] (value -0.0)>, (14, 12): <gurobi.Var var_order[14,12] (value 1.0)>, (14, 13): <gurobi.Var var_order[14,13] (value -0.0)>, (14, 14): <gurobi.Var var_order[14,14] (value -0.0)>, (14, 15): <gurobi.Var var_order[14,15] (value -0.0)>, (14, 16): <gurobi.Var var_order[14,16] (value -0.0)>, (14, 17): <gurobi.Var var_order[14,17] (value -0.0)>, (14, 18): <gurobi.Var var_order[14,18] (value -0.0)>, (14, 19): <gurobi.Var var_order[14,19] (value -0.0)>, (14, 20): <gurobi.Var var_order[14,20] (value -0.0)>, (14, 21): <gurobi.Var var_order[14,21] (value -0.0)>, (14, 22): <gurobi.Var var_order[14,22] (value -0.0)>, (14, 23): <gurobi.Var var_order[14,23] (value -0.0)>, (14, 24): <gurobi.Var var_order[14,24] (value 0.0)>, (14, 25): <gurobi.Var var_order[14,25] (value -0.0)>, (14, 26): <gurobi.Var var_order[14,26] (value -0.0)>, (14, 27): <gurobi.Var var_order[14,27] (value -0.0)>, (14, 28): <gurobi.Var var_order[14,28] (value -0.0)>, (14, 29): <gurobi.Var var_order[14,29] (value -0.0)>, (15, 0): <gurobi.Var var_order[15,0] (value -0.0)>, (15, 1): <gurobi.Var var_order[15,1] (value -0.0)>, (15, 2): <gurobi.Var var_order[15,2] (value -0.0)>, (15, 3): <gurobi.Var var_order[15,3] (value -0.0)>, (15, 4): <gurobi.Var var_order[15,4] (value -0.0)>, (15, 5): <gurobi.Var var_order[15,5] (value -0.0)>, (15, 6): <gurobi.Var var_order[15,6] (value -0.0)>, (15, 7): <gurobi.Var var_order[15,7] (value -0.0)>, (15, 8): <gurobi.Var var_order[15,8] (value -0.0)>, (15, 9): <gurobi.Var var_order[15,9] (value -0.0)>, (15, 10): <gurobi.Var var_order[15,10] (value -0.0)>, (15, 11): <gurobi.Var var_order[15,11] (value -0.0)>, (15, 12): <gurobi.Var var_order[15,12] (value -0.0)>, (15, 13): <gurobi.Var var_order[15,13] (value -0.0)>, (15, 14): <gurobi.Var var_order[15,14] (value -0.0)>, (15, 15): <gurobi.Var var_order[15,15] (value -0.0)>, (15, 16): <gurobi.Var var_order[15,16] (value -0.0)>, (15, 17): <gurobi.Var var_order[15,17] (value -0.0)>, (15, 18): <gurobi.Var var_order[15,18] (value -0.0)>, (15, 19): <gurobi.Var var_order[15,19] (value -0.0)>, (15, 20): <gurobi.Var var_order[15,20] (value -0.0)>, (15, 21): <gurobi.Var var_order[15,21] (value -0.0)>, (15, 22): <gurobi.Var var_order[15,22] (value -0.0)>, (15, 23): <gurobi.Var var_order[15,23] (value 1.0)>, (15, 24): <gurobi.Var var_order[15,24] (value -0.0)>, (15, 25): <gurobi.Var var_order[15,25] (value -0.0)>, (15, 26): <gurobi.Var var_order[15,26] (value -0.0)>, (15, 27): <gurobi.Var var_order[15,27] (value -0.0)>, (15, 28): <gurobi.Var var_order[15,28] (value -0.0)>, (15, 29): <gurobi.Var var_order[15,29] (value -0.0)>, (16, 0): <gurobi.Var var_order[16,0] (value -0.0)>, (16, 1): <gurobi.Var var_order[16,1] (value -0.0)>, (16, 2): <gurobi.Var var_order[16,2] (value -0.0)>, (16, 3): <gurobi.Var var_order[16,3] (value -0.0)>, (16, 4): <gurobi.Var var_order[16,4] (value -0.0)>, (16, 5): <gurobi.Var var_order[16,5] (value -0.0)>, (16, 6): <gurobi.Var var_order[16,6] (value -0.0)>, (16, 7): <gurobi.Var var_order[16,7] (value -0.0)>, (16, 8): <gurobi.Var var_order[16,8] (value -0.0)>, (16, 9): <gurobi.Var var_order[16,9] (value -0.0)>, (16, 10): <gurobi.Var var_order[16,10] (value -0.0)>, (16, 11): <gurobi.Var var_order[16,11] (value -0.0)>, (16, 12): <gurobi.Var var_order[16,12] (value -0.0)>, (16, 13): <gurobi.Var var_order[16,13] (value -0.0)>, (16, 14): <gurobi.Var var_order[16,14] (value -0.0)>, (16, 15): <gurobi.Var var_order[16,15] (value -0.0)>, (16, 16): <gurobi.Var var_order[16,16] (value -0.0)>, (16, 17): <gurobi.Var var_order[16,17] (value -0.0)>, (16, 18): <gurobi.Var var_order[16,18] (value -0.0)>, (16, 19): <gurobi.Var var_order[16,19] (value -0.0)>, (16, 20): <gurobi.Var var_order[16,20] (value 1.0)>, (16, 21): <gurobi.Var var_order[16,21] (value -0.0)>, (16, 22): <gurobi.Var var_order[16,22] (value -0.0)>, (16, 23): <gurobi.Var var_order[16,23] (value -0.0)>, (16, 24): <gurobi.Var var_order[16,24] (value -0.0)>, (16, 25): <gurobi.Var var_order[16,25] (value -0.0)>, (16, 26): <gurobi.Var var_order[16,26] (value -0.0)>, (16, 27): <gurobi.Var var_order[16,27] (value -0.0)>, (16, 28): <gurobi.Var var_order[16,28] (value -0.0)>, (16, 29): <gurobi.Var var_order[16,29] (value -0.0)>, (17, 0): <gurobi.Var var_order[17,0] (value -0.0)>, (17, 1): <gurobi.Var var_order[17,1] (value -0.0)>, (17, 2): <gurobi.Var var_order[17,2] (value -0.0)>, (17, 3): <gurobi.Var var_order[17,3] (value -0.0)>, (17, 4): <gurobi.Var var_order[17,4] (value -0.0)>, (17, 5): <gurobi.Var var_order[17,5] (value -0.0)>, (17, 6): <gurobi.Var var_order[17,6] (value -0.0)>, (17, 7): <gurobi.Var var_order[17,7] (value -0.0)>, (17, 8): <gurobi.Var var_order[17,8] (value -0.0)>, (17, 9): <gurobi.Var var_order[17,9] (value -0.0)>, (17, 10): <gurobi.Var var_order[17,10] (value -0.0)>, (17, 11): <gurobi.Var var_order[17,11] (value -0.0)>, (17, 12): <gurobi.Var var_order[17,12] (value -0.0)>, (17, 13): <gurobi.Var var_order[17,13] (value -0.0)>, (17, 14): <gurobi.Var var_order[17,14] (value -0.0)>, (17, 15): <gurobi.Var var_order[17,15] (value -0.0)>, (17, 16): <gurobi.Var var_order[17,16] (value -0.0)>, (17, 17): <gurobi.Var var_order[17,17] (value -0.0)>, (17, 18): <gurobi.Var var_order[17,18] (value -0.0)>, (17, 19): <gurobi.Var var_order[17,19] (value -0.0)>, (17, 20): <gurobi.Var var_order[17,20] (value -0.0)>, (17, 21): <gurobi.Var var_order[17,21] (value -0.0)>, (17, 22): <gurobi.Var var_order[17,22] (value -0.0)>, (17, 23): <gurobi.Var var_order[17,23] (value -0.0)>, (17, 24): <gurobi.Var var_order[17,24] (value -0.0)>, (17, 25): <gurobi.Var var_order[17,25] (value 1.0)>, (17, 26): <gurobi.Var var_order[17,26] (value -0.0)>, (17, 27): <gurobi.Var var_order[17,27] (value -0.0)>, (17, 28): <gurobi.Var var_order[17,28] (value -0.0)>, (17, 29): <gurobi.Var var_order[17,29] (value -0.0)>, (18, 0): <gurobi.Var var_order[18,0] (value -0.0)>, (18, 1): <gurobi.Var var_order[18,1] (value -0.0)>, (18, 2): <gurobi.Var var_order[18,2] (value -0.0)>, (18, 3): <gurobi.Var var_order[18,3] (value -0.0)>, (18, 4): <gurobi.Var var_order[18,4] (value -0.0)>, (18, 5): <gurobi.Var var_order[18,5] (value -0.0)>, (18, 6): <gurobi.Var var_order[18,6] (value -0.0)>, (18, 7): <gurobi.Var var_order[18,7] (value -0.0)>, (18, 8): <gurobi.Var var_order[18,8] (value -0.0)>, (18, 9): <gurobi.Var var_order[18,9] (value -0.0)>, (18, 10): <gurobi.Var var_order[18,10] (value -0.0)>, (18, 11): <gurobi.Var var_order[18,11] (value -0.0)>, (18, 12): <gurobi.Var var_order[18,12] (value -0.0)>, (18, 13): <gurobi.Var var_order[18,13] (value -0.0)>, (18, 14): <gurobi.Var var_order[18,14] (value -0.0)>, (18, 15): <gurobi.Var var_order[18,15] (value -0.0)>, (18, 16): <gurobi.Var var_order[18,16] (value -0.0)>, (18, 17): <gurobi.Var var_order[18,17] (value -0.0)>, (18, 18): <gurobi.Var var_order[18,18] (value 1.0)>, (18, 19): <gurobi.Var var_order[18,19] (value -0.0)>, (18, 20): <gurobi.Var var_order[18,20] (value -0.0)>, (18, 21): <gurobi.Var var_order[18,21] (value -0.0)>, (18, 22): <gurobi.Var var_order[18,22] (value -0.0)>, (18, 23): <gurobi.Var var_order[18,23] (value -0.0)>, (18, 24): <gurobi.Var var_order[18,24] (value -0.0)>, (18, 25): <gurobi.Var var_order[18,25] (value -0.0)>, (18, 26): <gurobi.Var var_order[18,26] (value -0.0)>, (18, 27): <gurobi.Var var_order[18,27] (value -0.0)>, (18, 28): <gurobi.Var var_order[18,28] (value -0.0)>, (18, 29): <gurobi.Var var_order[18,29] (value -0.0)>, (19, 0): <gurobi.Var var_order[19,0] (value -0.0)>, (19, 1): <gurobi.Var var_order[19,1] (value -0.0)>, (19, 2): <gurobi.Var var_order[19,2] (value -0.0)>, (19, 3): <gurobi.Var var_order[19,3] (value -0.0)>, (19, 4): <gurobi.Var var_order[19,4] (value -0.0)>, (19, 5): <gurobi.Var var_order[19,5] (value -0.0)>, (19, 6): <gurobi.Var var_order[19,6] (value -0.0)>, (19, 7): <gurobi.Var var_order[19,7] (value -0.0)>, (19, 8): <gurobi.Var var_order[19,8] (value -0.0)>, (19, 9): <gurobi.Var var_order[19,9] (value -0.0)>, (19, 10): <gurobi.Var var_order[19,10] (value -0.0)>, (19, 11): <gurobi.Var var_order[19,11] (value -0.0)>, (19, 12): <gurobi.Var var_order[19,12] (value -0.0)>, (19, 13): <gurobi.Var var_order[19,13] (value -0.0)>, (19, 14): <gurobi.Var var_order[19,14] (value -0.0)>, (19, 15): <gurobi.Var var_order[19,15] (value -0.0)>, (19, 16): <gurobi.Var var_order[19,16] (value 1.0)>, (19, 17): <gurobi.Var var_order[19,17] (value -0.0)>, (19, 18): <gurobi.Var var_order[19,18] (value -0.0)>, (19, 19): <gurobi.Var var_order[19,19] (value -0.0)>, (19, 20): <gurobi.Var var_order[19,20] (value -0.0)>, (19, 21): <gurobi.Var var_order[19,21] (value -0.0)>, (19, 22): <gurobi.Var var_order[19,22] (value -0.0)>, (19, 23): <gurobi.Var var_order[19,23] (value -0.0)>, (19, 24): <gurobi.Var var_order[19,24] (value -0.0)>, (19, 25): <gurobi.Var var_order[19,25] (value -0.0)>, (19, 26): <gurobi.Var var_order[19,26] (value -0.0)>, (19, 27): <gurobi.Var var_order[19,27] (value -0.0)>, (19, 28): <gurobi.Var var_order[19,28] (value -0.0)>, (19, 29): <gurobi.Var var_order[19,29] (value -0.0)>, (20, 0): <gurobi.Var var_order[20,0] (value -0.0)>, (20, 1): <gurobi.Var var_order[20,1] (value -0.0)>, (20, 2): <gurobi.Var var_order[20,2] (value -0.0)>, (20, 3): <gurobi.Var var_order[20,3] (value -0.0)>, (20, 4): <gurobi.Var var_order[20,4] (value -0.0)>, (20, 5): <gurobi.Var var_order[20,5] (value -0.0)>, (20, 6): <gurobi.Var var_order[20,6] (value -0.0)>, (20, 7): <gurobi.Var var_order[20,7] (value -0.0)>, (20, 8): <gurobi.Var var_order[20,8] (value -0.0)>, (20, 9): <gurobi.Var var_order[20,9] (value -0.0)>, (20, 10): <gurobi.Var var_order[20,10] (value 1.0)>, (20, 11): <gurobi.Var var_order[20,11] (value -0.0)>, (20, 12): <gurobi.Var var_order[20,12] (value -0.0)>, (20, 13): <gurobi.Var var_order[20,13] (value -0.0)>, (20, 14): <gurobi.Var var_order[20,14] (value -0.0)>, (20, 15): <gurobi.Var var_order[20,15] (value -0.0)>, (20, 16): <gurobi.Var var_order[20,16] (value -0.0)>, (20, 17): <gurobi.Var var_order[20,17] (value -0.0)>, (20, 18): <gurobi.Var var_order[20,18] (value -0.0)>, (20, 19): <gurobi.Var var_order[20,19] (value -0.0)>, (20, 20): <gurobi.Var var_order[20,20] (value -0.0)>, (20, 21): <gurobi.Var var_order[20,21] (value -0.0)>, (20, 22): <gurobi.Var var_order[20,22] (value -0.0)>, (20, 23): <gurobi.Var var_order[20,23] (value -0.0)>, (20, 24): <gurobi.Var var_order[20,24] (value -0.0)>, (20, 25): <gurobi.Var var_order[20,25] (value -0.0)>, (20, 26): <gurobi.Var var_order[20,26] (value -0.0)>, (20, 27): <gurobi.Var var_order[20,27] (value -0.0)>, (20, 28): <gurobi.Var var_order[20,28] (value -0.0)>, (20, 29): <gurobi.Var var_order[20,29] (value -0.0)>, (21, 0): <gurobi.Var var_order[21,0] (value -0.0)>, (21, 1): <gurobi.Var var_order[21,1] (value -0.0)>, (21, 2): <gurobi.Var var_order[21,2] (value -0.0)>, (21, 3): <gurobi.Var var_order[21,3] (value -0.0)>, (21, 4): <gurobi.Var var_order[21,4] (value -0.0)>, (21, 5): <gurobi.Var var_order[21,5] (value -0.0)>, (21, 6): <gurobi.Var var_order[21,6] (value -0.0)>, (21, 7): <gurobi.Var var_order[21,7] (value -0.0)>, (21, 8): <gurobi.Var var_order[21,8] (value -0.0)>, (21, 9): <gurobi.Var var_order[21,9] (value -0.0)>, (21, 10): <gurobi.Var var_order[21,10] (value -0.0)>, (21, 11): <gurobi.Var var_order[21,11] (value -0.0)>, (21, 12): <gurobi.Var var_order[21,12] (value -0.0)>, (21, 13): <gurobi.Var var_order[21,13] (value -0.0)>, (21, 14): <gurobi.Var var_order[21,14] (value -0.0)>, (21, 15): <gurobi.Var var_order[21,15] (value -0.0)>, (21, 16): <gurobi.Var var_order[21,16] (value -0.0)>, (21, 17): <gurobi.Var var_order[21,17] (value -0.0)>, (21, 18): <gurobi.Var var_order[21,18] (value -0.0)>, (21, 19): <gurobi.Var var_order[21,19] (value -0.0)>, (21, 20): <gurobi.Var var_order[21,20] (value -0.0)>, (21, 21): <gurobi.Var var_order[21,21] (value -0.0)>, (21, 22): <gurobi.Var var_order[21,22] (value -0.0)>, (21, 23): <gurobi.Var var_order[21,23] (value -0.0)>, (21, 24): <gurobi.Var var_order[21,24] (value -0.0)>, (21, 25): <gurobi.Var var_order[21,25] (value -0.0)>, (21, 26): <gurobi.Var var_order[21,26] (value -0.0)>, (21, 27): <gurobi.Var var_order[21,27] (value 1.0)>, (21, 28): <gurobi.Var var_order[21,28] (value -0.0)>, (21, 29): <gurobi.Var var_order[21,29] (value -0.0)>, (22, 0): <gurobi.Var var_order[22,0] (value -0.0)>, (22, 1): <gurobi.Var var_order[22,1] (value -0.0)>, (22, 2): <gurobi.Var var_order[22,2] (value -0.0)>, (22, 3): <gurobi.Var var_order[22,3] (value -0.0)>, (22, 4): <gurobi.Var var_order[22,4] (value -0.0)>, (22, 5): <gurobi.Var var_order[22,5] (value -0.0)>, (22, 6): <gurobi.Var var_order[22,6] (value -0.0)>, (22, 7): <gurobi.Var var_order[22,7] (value -0.0)>, (22, 8): <gurobi.Var var_order[22,8] (value -0.0)>, (22, 9): <gurobi.Var var_order[22,9] (value -0.0)>, (22, 10): <gurobi.Var var_order[22,10] (value -0.0)>, (22, 11): <gurobi.Var var_order[22,11] (value -0.0)>, (22, 12): <gurobi.Var var_order[22,12] (value -0.0)>, (22, 13): <gurobi.Var var_order[22,13] (value 1.0)>, (22, 14): <gurobi.Var var_order[22,14] (value 0.0)>, (22, 15): <gurobi.Var var_order[22,15] (value -0.0)>, (22, 16): <gurobi.Var var_order[22,16] (value -0.0)>, (22, 17): <gurobi.Var var_order[22,17] (value -0.0)>, (22, 18): <gurobi.Var var_order[22,18] (value -0.0)>, (22, 19): <gurobi.Var var_order[22,19] (value -0.0)>, (22, 20): <gurobi.Var var_order[22,20] (value -0.0)>, (22, 21): <gurobi.Var var_order[22,21] (value -0.0)>, (22, 22): <gurobi.Var var_order[22,22] (value -0.0)>, (22, 23): <gurobi.Var var_order[22,23] (value -0.0)>, (22, 24): <gurobi.Var var_order[22,24] (value -0.0)>, (22, 25): <gurobi.Var var_order[22,25] (value -0.0)>, (22, 26): <gurobi.Var var_order[22,26] (value -0.0)>, (22, 27): <gurobi.Var var_order[22,27] (value -0.0)>, (22, 28): <gurobi.Var var_order[22,28] (value -0.0)>, (22, 29): <gurobi.Var var_order[22,29] (value -0.0)>, (23, 0): <gurobi.Var var_order[23,0] (value -0.0)>, (23, 1): <gurobi.Var var_order[23,1] (value -0.0)>, (23, 2): <gurobi.Var var_order[23,2] (value -0.0)>, (23, 3): <gurobi.Var var_order[23,3] (value 1.0)>, (23, 4): <gurobi.Var var_order[23,4] (value -0.0)>, (23, 5): <gurobi.Var var_order[23,5] (value -0.0)>, (23, 6): <gurobi.Var var_order[23,6] (value -0.0)>, (23, 7): <gurobi.Var var_order[23,7] (value -0.0)>, (23, 8): <gurobi.Var var_order[23,8] (value -0.0)>, (23, 9): <gurobi.Var var_order[23,9] (value -0.0)>, (23, 10): <gurobi.Var var_order[23,10] (value -0.0)>, (23, 11): <gurobi.Var var_order[23,11] (value -0.0)>, (23, 12): <gurobi.Var var_order[23,12] (value -0.0)>, (23, 13): <gurobi.Var var_order[23,13] (value -0.0)>, (23, 14): <gurobi.Var var_order[23,14] (value -0.0)>, (23, 15): <gurobi.Var var_order[23,15] (value -0.0)>, (23, 16): <gurobi.Var var_order[23,16] (value -0.0)>, (23, 17): <gurobi.Var var_order[23,17] (value -0.0)>, (23, 18): <gurobi.Var var_order[23,18] (value -0.0)>, (23, 19): <gurobi.Var var_order[23,19] (value -0.0)>, (23, 20): <gurobi.Var var_order[23,20] (value -0.0)>, (23, 21): <gurobi.Var var_order[23,21] (value -0.0)>, (23, 22): <gurobi.Var var_order[23,22] (value -0.0)>, (23, 23): <gurobi.Var var_order[23,23] (value -0.0)>, (23, 24): <gurobi.Var var_order[23,24] (value -0.0)>, (23, 25): <gurobi.Var var_order[23,25] (value -0.0)>, (23, 26): <gurobi.Var var_order[23,26] (value -0.0)>, (23, 27): <gurobi.Var var_order[23,27] (value -0.0)>, (23, 28): <gurobi.Var var_order[23,28] (value -0.0)>, (23, 29): <gurobi.Var var_order[23,29] (value -0.0)>, (24, 0): <gurobi.Var var_order[24,0] (value -0.0)>, (24, 1): <gurobi.Var var_order[24,1] (value -0.0)>, (24, 2): <gurobi.Var var_order[24,2] (value -0.0)>, (24, 3): <gurobi.Var var_order[24,3] (value -0.0)>, (24, 4): <gurobi.Var var_order[24,4] (value -0.0)>, (24, 5): <gurobi.Var var_order[24,5] (value -0.0)>, (24, 6): <gurobi.Var var_order[24,6] (value -0.0)>, (24, 7): <gurobi.Var var_order[24,7] (value -0.0)>, (24, 8): <gurobi.Var var_order[24,8] (value -0.0)>, (24, 9): <gurobi.Var var_order[24,9] (value -0.0)>, (24, 10): <gurobi.Var var_order[24,10] (value -0.0)>, (24, 11): <gurobi.Var var_order[24,11] (value -0.0)>, (24, 12): <gurobi.Var var_order[24,12] (value -0.0)>, (24, 13): <gurobi.Var var_order[24,13] (value -0.0)>, (24, 14): <gurobi.Var var_order[24,14] (value -0.0)>, (24, 15): <gurobi.Var var_order[24,15] (value -0.0)>, (24, 16): <gurobi.Var var_order[24,16] (value -0.0)>, (24, 17): <gurobi.Var var_order[24,17] (value 1.0)>, (24, 18): <gurobi.Var var_order[24,18] (value -0.0)>, (24, 19): <gurobi.Var var_order[24,19] (value -0.0)>, (24, 20): <gurobi.Var var_order[24,20] (value -0.0)>, (24, 21): <gurobi.Var var_order[24,21] (value -0.0)>, (24, 22): <gurobi.Var var_order[24,22] (value -0.0)>, (24, 23): <gurobi.Var var_order[24,23] (value -0.0)>, (24, 24): <gurobi.Var var_order[24,24] (value -0.0)>, (24, 25): <gurobi.Var var_order[24,25] (value -0.0)>, (24, 26): <gurobi.Var var_order[24,26] (value -0.0)>, (24, 27): <gurobi.Var var_order[24,27] (value -0.0)>, (24, 28): <gurobi.Var var_order[24,28] (value -0.0)>, (24, 29): <gurobi.Var var_order[24,29] (value -0.0)>, (25, 0): <gurobi.Var var_order[25,0] (value 1.0)>, (25, 1): <gurobi.Var var_order[25,1] (value -0.0)>, (25, 2): <gurobi.Var var_order[25,2] (value -0.0)>, (25, 3): <gurobi.Var var_order[25,3] (value -0.0)>, (25, 4): <gurobi.Var var_order[25,4] (value -0.0)>, (25, 5): <gurobi.Var var_order[25,5] (value -0.0)>, (25, 6): <gurobi.Var var_order[25,6] (value -0.0)>, (25, 7): <gurobi.Var var_order[25,7] (value -0.0)>, (25, 8): <gurobi.Var var_order[25,8] (value -0.0)>, (25, 9): <gurobi.Var var_order[25,9] (value -0.0)>, (25, 10): <gurobi.Var var_order[25,10] (value -0.0)>, (25, 11): <gurobi.Var var_order[25,11] (value -0.0)>, (25, 12): <gurobi.Var var_order[25,12] (value -0.0)>, (25, 13): <gurobi.Var var_order[25,13] (value -0.0)>, (25, 14): <gurobi.Var var_order[25,14] (value -0.0)>, (25, 15): <gurobi.Var var_order[25,15] (value -0.0)>, (25, 16): <gurobi.Var var_order[25,16] (value -0.0)>, (25, 17): <gurobi.Var var_order[25,17] (value -0.0)>, (25, 18): <gurobi.Var var_order[25,18] (value -0.0)>, (25, 19): <gurobi.Var var_order[25,19] (value -0.0)>, (25, 20): <gurobi.Var var_order[25,20] (value -0.0)>, (25, 21): <gurobi.Var var_order[25,21] (value -0.0)>, (25, 22): <gurobi.Var var_order[25,22] (value -0.0)>, (25, 23): <gurobi.Var var_order[25,23] (value -0.0)>, (25, 24): <gurobi.Var var_order[25,24] (value 0.0)>, (25, 25): <gurobi.Var var_order[25,25] (value -0.0)>, (25, 26): <gurobi.Var var_order[25,26] (value -0.0)>, (25, 27): <gurobi.Var var_order[25,27] (value -0.0)>, (25, 28): <gurobi.Var var_order[25,28] (value -0.0)>, (25, 29): <gurobi.Var var_order[25,29] (value -0.0)>, (26, 0): <gurobi.Var var_order[26,0] (value -0.0)>, (26, 1): <gurobi.Var var_order[26,1] (value -0.0)>, (26, 2): <gurobi.Var var_order[26,2] (value -0.0)>, (26, 3): <gurobi.Var var_order[26,3] (value -0.0)>, (26, 4): <gurobi.Var var_order[26,4] (value 1.0)>, (26, 5): <gurobi.Var var_order[26,5] (value -0.0)>, (26, 6): <gurobi.Var var_order[26,6] (value -0.0)>, (26, 7): <gurobi.Var var_order[26,7] (value -0.0)>, (26, 8): <gurobi.Var var_order[26,8] (value 0.0)>, (26, 9): <gurobi.Var var_order[26,9] (value -0.0)>, (26, 10): <gurobi.Var var_order[26,10] (value -0.0)>, (26, 11): <gurobi.Var var_order[26,11] (value -0.0)>, (26, 12): <gurobi.Var var_order[26,12] (value -0.0)>, (26, 13): <gurobi.Var var_order[26,13] (value -0.0)>, (26, 14): <gurobi.Var var_order[26,14] (value -0.0)>, (26, 15): <gurobi.Var var_order[26,15] (value -0.0)>, (26, 16): <gurobi.Var var_order[26,16] (value -0.0)>, (26, 17): <gurobi.Var var_order[26,17] (value -0.0)>, (26, 18): <gurobi.Var var_order[26,18] (value -0.0)>, (26, 19): <gurobi.Var var_order[26,19] (value -0.0)>, (26, 20): <gurobi.Var var_order[26,20] (value -0.0)>, (26, 21): <gurobi.Var var_order[26,21] (value -0.0)>, (26, 22): <gurobi.Var var_order[26,22] (value -0.0)>, (26, 23): <gurobi.Var var_order[26,23] (value -0.0)>, (26, 24): <gurobi.Var var_order[26,24] (value -0.0)>, (26, 25): <gurobi.Var var_order[26,25] (value -0.0)>, (26, 26): <gurobi.Var var_order[26,26] (value -0.0)>, (26, 27): <gurobi.Var var_order[26,27] (value -0.0)>, (26, 28): <gurobi.Var var_order[26,28] (value -0.0)>, (26, 29): <gurobi.Var var_order[26,29] (value -0.0)>, (27, 0): <gurobi.Var var_order[27,0] (value -0.0)>, (27, 1): <gurobi.Var var_order[27,1] (value -0.0)>, (27, 2): <gurobi.Var var_order[27,2] (value -0.0)>, (27, 3): <gurobi.Var var_order[27,3] (value -0.0)>, (27, 4): <gurobi.Var var_order[27,4] (value -0.0)>, (27, 5): <gurobi.Var var_order[27,5] (value -0.0)>, (27, 6): <gurobi.Var var_order[27,6] (value -0.0)>, (27, 7): <gurobi.Var var_order[27,7] (value -0.0)>, (27, 8): <gurobi.Var var_order[27,8] (value -0.0)>, (27, 9): <gurobi.Var var_order[27,9] (value -0.0)>, (27, 10): <gurobi.Var var_order[27,10] (value -0.0)>, (27, 11): <gurobi.Var var_order[27,11] (value -0.0)>, (27, 12): <gurobi.Var var_order[27,12] (value -0.0)>, (27, 13): <gurobi.Var var_order[27,13] (value -0.0)>, (27, 14): <gurobi.Var var_order[27,14] (value -0.0)>, (27, 15): <gurobi.Var var_order[27,15] (value -0.0)>, (27, 16): <gurobi.Var var_order[27,16] (value -0.0)>, (27, 17): <gurobi.Var var_order[27,17] (value -0.0)>, (27, 18): <gurobi.Var var_order[27,18] (value -0.0)>, (27, 19): <gurobi.Var var_order[27,19] (value -0.0)>, (27, 20): <gurobi.Var var_order[27,20] (value -0.0)>, (27, 21): <gurobi.Var var_order[27,21] (value -0.0)>, (27, 22): <gurobi.Var var_order[27,22] (value -0.0)>, (27, 23): <gurobi.Var var_order[27,23] (value -0.0)>, (27, 24): <gurobi.Var var_order[27,24] (value -0.0)>, (27, 25): <gurobi.Var var_order[27,25] (value -0.0)>, (27, 26): <gurobi.Var var_order[27,26] (value 1.0)>, (27, 27): <gurobi.Var var_order[27,27] (value -0.0)>, (27, 28): <gurobi.Var var_order[27,28] (value -0.0)>, (27, 29): <gurobi.Var var_order[27,29] (value -0.0)>, (28, 0): <gurobi.Var var_order[28,0] (value -0.0)>, (28, 1): <gurobi.Var var_order[28,1] (value -0.0)>, (28, 2): <gurobi.Var var_order[28,2] (value -0.0)>, (28, 3): <gurobi.Var var_order[28,3] (value -0.0)>, (28, 4): <gurobi.Var var_order[28,4] (value -0.0)>, (28, 5): <gurobi.Var var_order[28,5] (value -0.0)>, (28, 6): <gurobi.Var var_order[28,6] (value -0.0)>, (28, 7): <gurobi.Var var_order[28,7] (value -0.0)>, (28, 8): <gurobi.Var var_order[28,8] (value -0.0)>, (28, 9): <gurobi.Var var_order[28,9] (value -0.0)>, (28, 10): <gurobi.Var var_order[28,10] (value -0.0)>, (28, 11): <gurobi.Var var_order[28,11] (value -0.0)>, (28, 12): <gurobi.Var var_order[28,12] (value 1.0)>, (28, 13): <gurobi.Var var_order[28,13] (value -0.0)>, (28, 14): <gurobi.Var var_order[28,14] (value -0.0)>, (28, 15): <gurobi.Var var_order[28,15] (value -0.0)>, (28, 16): <gurobi.Var var_order[28,16] (value -0.0)>, (28, 17): <gurobi.Var var_order[28,17] (value -0.0)>, (28, 18): <gurobi.Var var_order[28,18] (value -0.0)>, (28, 19): <gurobi.Var var_order[28,19] (value -0.0)>, (28, 20): <gurobi.Var var_order[28,20] (value -0.0)>, (28, 21): <gurobi.Var var_order[28,21] (value -0.0)>, (28, 22): <gurobi.Var var_order[28,22] (value -0.0)>, (28, 23): <gurobi.Var var_order[28,23] (value -0.0)>, (28, 24): <gurobi.Var var_order[28,24] (value -0.0)>, (28, 25): <gurobi.Var var_order[28,25] (value -0.0)>, (28, 26): <gurobi.Var var_order[28,26] (value -0.0)>, (28, 27): <gurobi.Var var_order[28,27] (value -0.0)>, (28, 28): <gurobi.Var var_order[28,28] (value -0.0)>, (28, 29): <gurobi.Var var_order[28,29] (value -0.0)>, (29, 0): <gurobi.Var var_order[29,0] (value 1.0)>, (29, 1): <gurobi.Var var_order[29,1] (value -0.0)>, (29, 2): <gurobi.Var var_order[29,2] (value -0.0)>, (29, 3): <gurobi.Var var_order[29,3] (value -0.0)>, (29, 4): <gurobi.Var var_order[29,4] (value -0.0)>, (29, 5): <gurobi.Var var_order[29,5] (value -0.0)>, (29, 6): <gurobi.Var var_order[29,6] (value -0.0)>, (29, 7): <gurobi.Var var_order[29,7] (value -0.0)>, (29, 8): <gurobi.Var var_order[29,8] (value -0.0)>, (29, 9): <gurobi.Var var_order[29,9] (value -0.0)>, (29, 10): <gurobi.Var var_order[29,10] (value -0.0)>, (29, 11): <gurobi.Var var_order[29,11] (value -0.0)>, (29, 12): <gurobi.Var var_order[29,12] (value -0.0)>, (29, 13): <gurobi.Var var_order[29,13] (value -0.0)>, (29, 14): <gurobi.Var var_order[29,14] (value -0.0)>, (29, 15): <gurobi.Var var_order[29,15] (value 0.0)>, (29, 16): <gurobi.Var var_order[29,16] (value -0.0)>, (29, 17): <gurobi.Var var_order[29,17] (value -0.0)>, (29, 18): <gurobi.Var var_order[29,18] (value -0.0)>, (29, 19): <gurobi.Var var_order[29,19] (value -0.0)>, (29, 20): <gurobi.Var var_order[29,20] (value -0.0)>, (29, 21): <gurobi.Var var_order[29,21] (value -0.0)>, (29, 22): <gurobi.Var var_order[29,22] (value -0.0)>, (29, 23): <gurobi.Var var_order[29,23] (value -0.0)>, (29, 24): <gurobi.Var var_order[29,24] (value -0.0)>, (29, 25): <gurobi.Var var_order[29,25] (value -0.0)>, (29, 26): <gurobi.Var var_order[29,26] (value -0.0)>, (29, 27): <gurobi.Var var_order[29,27] (value -0.0)>, (29, 28): <gurobi.Var var_order[29,28] (value -0.0)>, (29, 29): <gurobi.Var var_order[29,29] (value -0.0)>, (30, 0): <gurobi.Var var_order[30,0] (value -0.0)>, (30, 1): <gurobi.Var var_order[30,1] (value -0.0)>, (30, 2): <gurobi.Var var_order[30,2] (value -0.0)>, (30, 3): <gurobi.Var var_order[30,3] (value -0.0)>, (30, 4): <gurobi.Var var_order[30,4] (value -0.0)>, (30, 5): <gurobi.Var var_order[30,5] (value -0.0)>, (30, 6): <gurobi.Var var_order[30,6] (value -0.0)>, (30, 7): <gurobi.Var var_order[30,7] (value -0.0)>, (30, 8): <gurobi.Var var_order[30,8] (value -0.0)>, (30, 9): <gurobi.Var var_order[30,9] (value -0.0)>, (30, 10): <gurobi.Var var_order[30,10] (value -0.0)>, (30, 11): <gurobi.Var var_order[30,11] (value -0.0)>, (30, 12): <gurobi.Var var_order[30,12] (value -0.0)>, (30, 13): <gurobi.Var var_order[30,13] (value -0.0)>, (30, 14): <gurobi.Var var_order[30,14] (value -0.0)>, (30, 15): <gurobi.Var var_order[30,15] (value 1.0)>, (30, 16): <gurobi.Var var_order[30,16] (value -0.0)>, (30, 17): <gurobi.Var var_order[30,17] (value -0.0)>, (30, 18): <gurobi.Var var_order[30,18] (value -0.0)>, (30, 19): <gurobi.Var var_order[30,19] (value -0.0)>, (30, 20): <gurobi.Var var_order[30,20] (value -0.0)>, (30, 21): <gurobi.Var var_order[30,21] (value -0.0)>, (30, 22): <gurobi.Var var_order[30,22] (value -0.0)>, (30, 23): <gurobi.Var var_order[30,23] (value -0.0)>, (30, 24): <gurobi.Var var_order[30,24] (value -0.0)>, (30, 25): <gurobi.Var var_order[30,25] (value -0.0)>, (30, 26): <gurobi.Var var_order[30,26] (value -0.0)>, (30, 27): <gurobi.Var var_order[30,27] (value -0.0)>, (30, 28): <gurobi.Var var_order[30,28] (value -0.0)>, (30, 29): <gurobi.Var var_order[30,29] (value -0.0)>, (31, 0): <gurobi.Var var_order[31,0] (value -0.0)>, (31, 1): <gurobi.Var var_order[31,1] (value -0.0)>, (31, 2): <gurobi.Var var_order[31,2] (value -0.0)>, (31, 3): <gurobi.Var var_order[31,3] (value 1.0)>, (31, 4): <gurobi.Var var_order[31,4] (value -0.0)>, (31, 5): <gurobi.Var var_order[31,5] (value -0.0)>, (31, 6): <gurobi.Var var_order[31,6] (value -0.0)>, (31, 7): <gurobi.Var var_order[31,7] (value -0.0)>, (31, 8): <gurobi.Var var_order[31,8] (value -0.0)>, (31, 9): <gurobi.Var var_order[31,9] (value -0.0)>, (31, 10): <gurobi.Var var_order[31,10] (value -0.0)>, (31, 11): <gurobi.Var var_order[31,11] (value -0.0)>, (31, 12): <gurobi.Var var_order[31,12] (value -0.0)>, (31, 13): <gurobi.Var var_order[31,13] (value -0.0)>, (31, 14): <gurobi.Var var_order[31,14] (value -0.0)>, (31, 15): <gurobi.Var var_order[31,15] (value -0.0)>, (31, 16): <gurobi.Var var_order[31,16] (value -0.0)>, (31, 17): <gurobi.Var var_order[31,17] (value -0.0)>, (31, 18): <gurobi.Var var_order[31,18] (value -0.0)>, (31, 19): <gurobi.Var var_order[31,19] (value -0.0)>, (31, 20): <gurobi.Var var_order[31,20] (value -0.0)>, (31, 21): <gurobi.Var var_order[31,21] (value -0.0)>, (31, 22): <gurobi.Var var_order[31,22] (value -0.0)>, (31, 23): <gurobi.Var var_order[31,23] (value -0.0)>, (31, 24): <gurobi.Var var_order[31,24] (value -0.0)>, (31, 25): <gurobi.Var var_order[31,25] (value -0.0)>, (31, 26): <gurobi.Var var_order[31,26] (value -0.0)>, (31, 27): <gurobi.Var var_order[31,27] (value -0.0)>, (31, 28): <gurobi.Var var_order[31,28] (value -0.0)>, (31, 29): <gurobi.Var var_order[31,29] (value -0.0)>, (32, 0): <gurobi.Var var_order[32,0] (value -0.0)>, (32, 1): <gurobi.Var var_order[32,1] (value -0.0)>, (32, 2): <gurobi.Var var_order[32,2] (value -0.0)>, (32, 3): <gurobi.Var var_order[32,3] (value -0.0)>, (32, 4): <gurobi.Var var_order[32,4] (value -0.0)>, (32, 5): <gurobi.Var var_order[32,5] (value -0.0)>, (32, 6): <gurobi.Var var_order[32,6] (value 1.0)>, (32, 7): <gurobi.Var var_order[32,7] (value -0.0)>, (32, 8): <gurobi.Var var_order[32,8] (value -0.0)>, (32, 9): <gurobi.Var var_order[32,9] (value -0.0)>, (32, 10): <gurobi.Var var_order[32,10] (value -0.0)>, (32, 11): <gurobi.Var var_order[32,11] (value -0.0)>, (32, 12): <gurobi.Var var_order[32,12] (value -0.0)>, (32, 13): <gurobi.Var var_order[32,13] (value -0.0)>, (32, 14): <gurobi.Var var_order[32,14] (value -0.0)>, (32, 15): <gurobi.Var var_order[32,15] (value -0.0)>, (32, 16): <gurobi.Var var_order[32,16] (value -0.0)>, (32, 17): <gurobi.Var var_order[32,17] (value -0.0)>, (32, 18): <gurobi.Var var_order[32,18] (value -0.0)>, (32, 19): <gurobi.Var var_order[32,19] (value -0.0)>, (32, 20): <gurobi.Var var_order[32,20] (value -0.0)>, (32, 21): <gurobi.Var var_order[32,21] (value -0.0)>, (32, 22): <gurobi.Var var_order[32,22] (value -0.0)>, (32, 23): <gurobi.Var var_order[32,23] (value -0.0)>, (32, 24): <gurobi.Var var_order[32,24] (value -0.0)>, (32, 25): <gurobi.Var var_order[32,25] (value -0.0)>, (32, 26): <gurobi.Var var_order[32,26] (value -0.0)>, (32, 27): <gurobi.Var var_order[32,27] (value -0.0)>, (32, 28): <gurobi.Var var_order[32,28] (value -0.0)>, (32, 29): <gurobi.Var var_order[32,29] (value -0.0)>, (33, 0): <gurobi.Var var_order[33,0] (value -0.0)>, (33, 1): <gurobi.Var var_order[33,1] (value -0.0)>, (33, 2): <gurobi.Var var_order[33,2] (value -0.0)>, (33, 3): <gurobi.Var var_order[33,3] (value -0.0)>, (33, 4): <gurobi.Var var_order[33,4] (value -0.0)>, (33, 5): <gurobi.Var var_order[33,5] (value -0.0)>, (33, 6): <gurobi.Var var_order[33,6] (value -0.0)>, (33, 7): <gurobi.Var var_order[33,7] (value -0.0)>, (33, 8): <gurobi.Var var_order[33,8] (value -0.0)>, (33, 9): <gurobi.Var var_order[33,9] (value 1.0)>, (33, 10): <gurobi.Var var_order[33,10] (value -0.0)>, (33, 11): <gurobi.Var var_order[33,11] (value -0.0)>, (33, 12): <gurobi.Var var_order[33,12] (value -0.0)>, (33, 13): <gurobi.Var var_order[33,13] (value -0.0)>, (33, 14): <gurobi.Var var_order[33,14] (value -0.0)>, (33, 15): <gurobi.Var var_order[33,15] (value -0.0)>, (33, 16): <gurobi.Var var_order[33,16] (value -0.0)>, (33, 17): <gurobi.Var var_order[33,17] (value -0.0)>, (33, 18): <gurobi.Var var_order[33,18] (value -0.0)>, (33, 19): <gurobi.Var var_order[33,19] (value -0.0)>, (33, 20): <gurobi.Var var_order[33,20] (value -0.0)>, (33, 21): <gurobi.Var var_order[33,21] (value -0.0)>, (33, 22): <gurobi.Var var_order[33,22] (value -0.0)>, (33, 23): <gurobi.Var var_order[33,23] (value -0.0)>, (33, 24): <gurobi.Var var_order[33,24] (value -0.0)>, (33, 25): <gurobi.Var var_order[33,25] (value -0.0)>, (33, 26): <gurobi.Var var_order[33,26] (value -0.0)>, (33, 27): <gurobi.Var var_order[33,27] (value -0.0)>, (33, 28): <gurobi.Var var_order[33,28] (value -0.0)>, (33, 29): <gurobi.Var var_order[33,29] (value -0.0)>, (34, 0): <gurobi.Var var_order[34,0] (value -0.0)>, (34, 1): <gurobi.Var var_order[34,1] (value -0.0)>, (34, 2): <gurobi.Var var_order[34,2] (value -0.0)>, (34, 3): <gurobi.Var var_order[34,3] (value -0.0)>, (34, 4): <gurobi.Var var_order[34,4] (value -0.0)>, (34, 5): <gurobi.Var var_order[34,5] (value -0.0)>, (34, 6): <gurobi.Var var_order[34,6] (value -0.0)>, (34, 7): <gurobi.Var var_order[34,7] (value -0.0)>, (34, 8): <gurobi.Var var_order[34,8] (value -0.0)>, (34, 9): <gurobi.Var var_order[34,9] (value -0.0)>, (34, 10): <gurobi.Var var_order[34,10] (value -0.0)>, (34, 11): <gurobi.Var var_order[34,11] (value -0.0)>, (34, 12): <gurobi.Var var_order[34,12] (value -0.0)>, (34, 13): <gurobi.Var var_order[34,13] (value -0.0)>, (34, 14): <gurobi.Var var_order[34,14] (value -0.0)>, (34, 15): <gurobi.Var var_order[34,15] (value -0.0)>, (34, 16): <gurobi.Var var_order[34,16] (value -0.0)>, (34, 17): <gurobi.Var var_order[34,17] (value -0.0)>, (34, 18): <gurobi.Var var_order[34,18] (value -0.0)>, (34, 19): <gurobi.Var var_order[34,19] (value 1.0)>, (34, 20): <gurobi.Var var_order[34,20] (value -0.0)>, (34, 21): <gurobi.Var var_order[34,21] (value -0.0)>, (34, 22): <gurobi.Var var_order[34,22] (value -0.0)>, (34, 23): <gurobi.Var var_order[34,23] (value -0.0)>, (34, 24): <gurobi.Var var_order[34,24] (value -0.0)>, (34, 25): <gurobi.Var var_order[34,25] (value -0.0)>, (34, 26): <gurobi.Var var_order[34,26] (value -0.0)>, (34, 27): <gurobi.Var var_order[34,27] (value -0.0)>, (34, 28): <gurobi.Var var_order[34,28] (value -0.0)>, (34, 29): <gurobi.Var var_order[34,29] (value -0.0)>, (35, 0): <gurobi.Var var_order[35,0] (value -0.0)>, (35, 1): <gurobi.Var var_order[35,1] (value 1.0)>, (35, 2): <gurobi.Var var_order[35,2] (value -0.0)>, (35, 3): <gurobi.Var var_order[35,3] (value -0.0)>, (35, 4): <gurobi.Var var_order[35,4] (value -0.0)>, (35, 5): <gurobi.Var var_order[35,5] (value -0.0)>, (35, 6): <gurobi.Var var_order[35,6] (value -0.0)>, (35, 7): <gurobi.Var var_order[35,7] (value -0.0)>, (35, 8): <gurobi.Var var_order[35,8] (value -0.0)>, (35, 9): <gurobi.Var var_order[35,9] (value -0.0)>, (35, 10): <gurobi.Var var_order[35,10] (value -0.0)>, (35, 11): <gurobi.Var var_order[35,11] (value -0.0)>, (35, 12): <gurobi.Var var_order[35,12] (value -0.0)>, (35, 13): <gurobi.Var var_order[35,13] (value -0.0)>, (35, 14): <gurobi.Var var_order[35,14] (value -0.0)>, (35, 15): <gurobi.Var var_order[35,15] (value -0.0)>, (35, 16): <gurobi.Var var_order[35,16] (value -0.0)>, (35, 17): <gurobi.Var var_order[35,17] (value -0.0)>, (35, 18): <gurobi.Var var_order[35,18] (value -0.0)>, (35, 19): <gurobi.Var var_order[35,19] (value -0.0)>, (35, 20): <gurobi.Var var_order[35,20] (value -0.0)>, (35, 21): <gurobi.Var var_order[35,21] (value -0.0)>, (35, 22): <gurobi.Var var_order[35,22] (value -0.0)>, (35, 23): <gurobi.Var var_order[35,23] (value -0.0)>, (35, 24): <gurobi.Var var_order[35,24] (value -0.0)>, (35, 25): <gurobi.Var var_order[35,25] (value -0.0)>, (35, 26): <gurobi.Var var_order[35,26] (value -0.0)>, (35, 27): <gurobi.Var var_order[35,27] (value -0.0)>, (35, 28): <gurobi.Var var_order[35,28] (value -0.0)>, (35, 29): <gurobi.Var var_order[35,29] (value -0.0)>, (36, 0): <gurobi.Var var_order[36,0] (value -0.0)>, (36, 1): <gurobi.Var var_order[36,1] (value -0.0)>, (36, 2): <gurobi.Var var_order[36,2] (value -0.0)>, (36, 3): <gurobi.Var var_order[36,3] (value -0.0)>, (36, 4): <gurobi.Var var_order[36,4] (value -0.0)>, (36, 5): <gurobi.Var var_order[36,5] (value -0.0)>, (36, 6): <gurobi.Var var_order[36,6] (value -0.0)>, (36, 7): <gurobi.Var var_order[36,7] (value -0.0)>, (36, 8): <gurobi.Var var_order[36,8] (value -0.0)>, (36, 9): <gurobi.Var var_order[36,9] (value -0.0)>, (36, 10): <gurobi.Var var_order[36,10] (value -0.0)>, (36, 11): <gurobi.Var var_order[36,11] (value -0.0)>, (36, 12): <gurobi.Var var_order[36,12] (value -0.0)>, (36, 13): <gurobi.Var var_order[36,13] (value -0.0)>, (36, 14): <gurobi.Var var_order[36,14] (value -0.0)>, (36, 15): <gurobi.Var var_order[36,15] (value -0.0)>, (36, 16): <gurobi.Var var_order[36,16] (value -0.0)>, (36, 17): <gurobi.Var var_order[36,17] (value -0.0)>, (36, 18): <gurobi.Var var_order[36,18] (value 1.0)>, (36, 19): <gurobi.Var var_order[36,19] (value -0.0)>, (36, 20): <gurobi.Var var_order[36,20] (value -0.0)>, (36, 21): <gurobi.Var var_order[36,21] (value -0.0)>, (36, 22): <gurobi.Var var_order[36,22] (value -0.0)>, (36, 23): <gurobi.Var var_order[36,23] (value -0.0)>, (36, 24): <gurobi.Var var_order[36,24] (value -0.0)>, (36, 25): <gurobi.Var var_order[36,25] (value -0.0)>, (36, 26): <gurobi.Var var_order[36,26] (value -0.0)>, (36, 27): <gurobi.Var var_order[36,27] (value -0.0)>, (36, 28): <gurobi.Var var_order[36,28] (value -0.0)>, (36, 29): <gurobi.Var var_order[36,29] (value -0.0)>, (37, 0): <gurobi.Var var_order[37,0] (value -0.0)>, (37, 1): <gurobi.Var var_order[37,1] (value -0.0)>, (37, 2): <gurobi.Var var_order[37,2] (value -0.0)>, (37, 3): <gurobi.Var var_order[37,3] (value -0.0)>, (37, 4): <gurobi.Var var_order[37,4] (value -0.0)>, (37, 5): <gurobi.Var var_order[37,5] (value -0.0)>, (37, 6): <gurobi.Var var_order[37,6] (value -0.0)>, (37, 7): <gurobi.Var var_order[37,7] (value -0.0)>, (37, 8): <gurobi.Var var_order[37,8] (value -0.0)>, (37, 9): <gurobi.Var var_order[37,9] (value -0.0)>, (37, 10): <gurobi.Var var_order[37,10] (value -0.0)>, (37, 11): <gurobi.Var var_order[37,11] (value -0.0)>, (37, 12): <gurobi.Var var_order[37,12] (value -0.0)>, (37, 13): <gurobi.Var var_order[37,13] (value -0.0)>, (37, 14): <gurobi.Var var_order[37,14] (value 1.0)>, (37, 15): <gurobi.Var var_order[37,15] (value -0.0)>, (37, 16): <gurobi.Var var_order[37,16] (value -0.0)>, (37, 17): <gurobi.Var var_order[37,17] (value -0.0)>, (37, 18): <gurobi.Var var_order[37,18] (value -0.0)>, (37, 19): <gurobi.Var var_order[37,19] (value -0.0)>, (37, 20): <gurobi.Var var_order[37,20] (value -0.0)>, (37, 21): <gurobi.Var var_order[37,21] (value -0.0)>, (37, 22): <gurobi.Var var_order[37,22] (value -0.0)>, (37, 23): <gurobi.Var var_order[37,23] (value -0.0)>, (37, 24): <gurobi.Var var_order[37,24] (value -0.0)>, (37, 25): <gurobi.Var var_order[37,25] (value -0.0)>, (37, 26): <gurobi.Var var_order[37,26] (value -0.0)>, (37, 27): <gurobi.Var var_order[37,27] (value -0.0)>, (37, 28): <gurobi.Var var_order[37,28] (value -0.0)>, (37, 29): <gurobi.Var var_order[37,29] (value -0.0)>, (38, 0): <gurobi.Var var_order[38,0] (value -0.0)>, (38, 1): <gurobi.Var var_order[38,1] (value -0.0)>, (38, 2): <gurobi.Var var_order[38,2] (value -0.0)>, (38, 3): <gurobi.Var var_order[38,3] (value -0.0)>, (38, 4): <gurobi.Var var_order[38,4] (value -0.0)>, (38, 5): <gurobi.Var var_order[38,5] (value -0.0)>, (38, 6): <gurobi.Var var_order[38,6] (value -0.0)>, (38, 7): <gurobi.Var var_order[38,7] (value 1.0)>, (38, 8): <gurobi.Var var_order[38,8] (value 0.0)>, (38, 9): <gurobi.Var var_order[38,9] (value -0.0)>, (38, 10): <gurobi.Var var_order[38,10] (value -0.0)>, (38, 11): <gurobi.Var var_order[38,11] (value -0.0)>, (38, 12): <gurobi.Var var_order[38,12] (value -0.0)>, (38, 13): <gurobi.Var var_order[38,13] (value -0.0)>, (38, 14): <gurobi.Var var_order[38,14] (value -0.0)>, (38, 15): <gurobi.Var var_order[38,15] (value -0.0)>, (38, 16): <gurobi.Var var_order[38,16] (value -0.0)>, (38, 17): <gurobi.Var var_order[38,17] (value -0.0)>, (38, 18): <gurobi.Var var_order[38,18] (value -0.0)>, (38, 19): <gurobi.Var var_order[38,19] (value -0.0)>, (38, 20): <gurobi.Var var_order[38,20] (value -0.0)>, (38, 21): <gurobi.Var var_order[38,21] (value -0.0)>, (38, 22): <gurobi.Var var_order[38,22] (value -0.0)>, (38, 23): <gurobi.Var var_order[38,23] (value -0.0)>, (38, 24): <gurobi.Var var_order[38,24] (value -0.0)>, (38, 25): <gurobi.Var var_order[38,25] (value -0.0)>, (38, 26): <gurobi.Var var_order[38,26] (value -0.0)>, (38, 27): <gurobi.Var var_order[38,27] (value -0.0)>, (38, 28): <gurobi.Var var_order[38,28] (value -0.0)>, (38, 29): <gurobi.Var var_order[38,29] (value -0.0)>, (39, 0): <gurobi.Var var_order[39,0] (value -0.0)>, (39, 1): <gurobi.Var var_order[39,1] (value -0.0)>, (39, 2): <gurobi.Var var_order[39,2] (value -0.0)>, (39, 3): <gurobi.Var var_order[39,3] (value -0.0)>, (39, 4): <gurobi.Var var_order[39,4] (value -0.0)>, (39, 5): <gurobi.Var var_order[39,5] (value -0.0)>, (39, 6): <gurobi.Var var_order[39,6] (value -0.0)>, (39, 7): <gurobi.Var var_order[39,7] (value -0.0)>, (39, 8): <gurobi.Var var_order[39,8] (value -0.0)>, (39, 9): <gurobi.Var var_order[39,9] (value -0.0)>, (39, 10): <gurobi.Var var_order[39,10] (value -0.0)>, (39, 11): <gurobi.Var var_order[39,11] (value 1.0)>, (39, 12): <gurobi.Var var_order[39,12] (value -0.0)>, (39, 13): <gurobi.Var var_order[39,13] (value -0.0)>, (39, 14): <gurobi.Var var_order[39,14] (value -0.0)>, (39, 15): <gurobi.Var var_order[39,15] (value -0.0)>, (39, 16): <gurobi.Var var_order[39,16] (value -0.0)>, (39, 17): <gurobi.Var var_order[39,17] (value -0.0)>, (39, 18): <gurobi.Var var_order[39,18] (value -0.0)>, (39, 19): <gurobi.Var var_order[39,19] (value -0.0)>, (39, 20): <gurobi.Var var_order[39,20] (value -0.0)>, (39, 21): <gurobi.Var var_order[39,21] (value -0.0)>, (39, 22): <gurobi.Var var_order[39,22] (value -0.0)>, (39, 23): <gurobi.Var var_order[39,23] (value -0.0)>, (39, 24): <gurobi.Var var_order[39,24] (value -0.0)>, (39, 25): <gurobi.Var var_order[39,25] (value -0.0)>, (39, 26): <gurobi.Var var_order[39,26] (value -0.0)>, (39, 27): <gurobi.Var var_order[39,27] (value -0.0)>, (39, 28): <gurobi.Var var_order[39,28] (value -0.0)>, (39, 29): <gurobi.Var var_order[39,29] (value -0.0)>, (40, 0): <gurobi.Var var_order[40,0] (value -0.0)>, (40, 1): <gurobi.Var var_order[40,1] (value -0.0)>, (40, 2): <gurobi.Var var_order[40,2] (value -0.0)>, (40, 3): <gurobi.Var var_order[40,3] (value -0.0)>, (40, 4): <gurobi.Var var_order[40,4] (value -0.0)>, (40, 5): <gurobi.Var var_order[40,5] (value -0.0)>, (40, 6): <gurobi.Var var_order[40,6] (value -0.0)>, (40, 7): <gurobi.Var var_order[40,7] (value -0.0)>, (40, 8): <gurobi.Var var_order[40,8] (value -0.0)>, (40, 9): <gurobi.Var var_order[40,9] (value -0.0)>, (40, 10): <gurobi.Var var_order[40,10] (value -0.0)>, (40, 11): <gurobi.Var var_order[40,11] (value -0.0)>, (40, 12): <gurobi.Var var_order[40,12] (value -0.0)>, (40, 13): <gurobi.Var var_order[40,13] (value 1.0)>, (40, 14): <gurobi.Var var_order[40,14] (value -0.0)>, (40, 15): <gurobi.Var var_order[40,15] (value -0.0)>, (40, 16): <gurobi.Var var_order[40,16] (value -0.0)>, (40, 17): <gurobi.Var var_order[40,17] (value -0.0)>, (40, 18): <gurobi.Var var_order[40,18] (value -0.0)>, (40, 19): <gurobi.Var var_order[40,19] (value -0.0)>, (40, 20): <gurobi.Var var_order[40,20] (value -0.0)>, (40, 21): <gurobi.Var var_order[40,21] (value -0.0)>, (40, 22): <gurobi.Var var_order[40,22] (value -0.0)>, (40, 23): <gurobi.Var var_order[40,23] (value -0.0)>, (40, 24): <gurobi.Var var_order[40,24] (value -0.0)>, (40, 25): <gurobi.Var var_order[40,25] (value -0.0)>, (40, 26): <gurobi.Var var_order[40,26] (value -0.0)>, (40, 27): <gurobi.Var var_order[40,27] (value -0.0)>, (40, 28): <gurobi.Var var_order[40,28] (value -0.0)>, (40, 29): <gurobi.Var var_order[40,29] (value -0.0)>, (41, 0): <gurobi.Var var_order[41,0] (value -0.0)>, (41, 1): <gurobi.Var var_order[41,1] (value -0.0)>, (41, 2): <gurobi.Var var_order[41,2] (value -0.0)>, (41, 3): <gurobi.Var var_order[41,3] (value -0.0)>, (41, 4): <gurobi.Var var_order[41,4] (value -0.0)>, (41, 5): <gurobi.Var var_order[41,5] (value -0.0)>, (41, 6): <gurobi.Var var_order[41,6] (value -0.0)>, (41, 7): <gurobi.Var var_order[41,7] (value 1.0)>, (41, 8): <gurobi.Var var_order[41,8] (value -0.0)>, (41, 9): <gurobi.Var var_order[41,9] (value -0.0)>, (41, 10): <gurobi.Var var_order[41,10] (value -0.0)>, (41, 11): <gurobi.Var var_order[41,11] (value -0.0)>, (41, 12): <gurobi.Var var_order[41,12] (value -0.0)>, (41, 13): <gurobi.Var var_order[41,13] (value -0.0)>, (41, 14): <gurobi.Var var_order[41,14] (value -0.0)>, (41, 15): <gurobi.Var var_order[41,15] (value -0.0)>, (41, 16): <gurobi.Var var_order[41,16] (value -0.0)>, (41, 17): <gurobi.Var var_order[41,17] (value -0.0)>, (41, 18): <gurobi.Var var_order[41,18] (value -0.0)>, (41, 19): <gurobi.Var var_order[41,19] (value 0.0)>, (41, 20): <gurobi.Var var_order[41,20] (value -0.0)>, (41, 21): <gurobi.Var var_order[41,21] (value -0.0)>, (41, 22): <gurobi.Var var_order[41,22] (value -0.0)>, (41, 23): <gurobi.Var var_order[41,23] (value -0.0)>, (41, 24): <gurobi.Var var_order[41,24] (value -0.0)>, (41, 25): <gurobi.Var var_order[41,25] (value -0.0)>, (41, 26): <gurobi.Var var_order[41,26] (value -0.0)>, (41, 27): <gurobi.Var var_order[41,27] (value -0.0)>, (41, 28): <gurobi.Var var_order[41,28] (value -0.0)>, (41, 29): <gurobi.Var var_order[41,29] (value -0.0)>, (42, 0): <gurobi.Var var_order[42,0] (value -0.0)>, (42, 1): <gurobi.Var var_order[42,1] (value -0.0)>, (42, 2): <gurobi.Var var_order[42,2] (value -0.0)>, (42, 3): <gurobi.Var var_order[42,3] (value -0.0)>, (42, 4): <gurobi.Var var_order[42,4] (value -0.0)>, (42, 5): <gurobi.Var var_order[42,5] (value 1.0)>, (42, 6): <gurobi.Var var_order[42,6] (value -0.0)>, (42, 7): <gurobi.Var var_order[42,7] (value -0.0)>, (42, 8): <gurobi.Var var_order[42,8] (value -0.0)>, (42, 9): <gurobi.Var var_order[42,9] (value -0.0)>, (42, 10): <gurobi.Var var_order[42,10] (value -0.0)>, (42, 11): <gurobi.Var var_order[42,11] (value -0.0)>, (42, 12): <gurobi.Var var_order[42,12] (value -0.0)>, (42, 13): <gurobi.Var var_order[42,13] (value -0.0)>, (42, 14): <gurobi.Var var_order[42,14] (value -0.0)>, (42, 15): <gurobi.Var var_order[42,15] (value -0.0)>, (42, 16): <gurobi.Var var_order[42,16] (value -0.0)>, (42, 17): <gurobi.Var var_order[42,17] (value -0.0)>, (42, 18): <gurobi.Var var_order[42,18] (value -0.0)>, (42, 19): <gurobi.Var var_order[42,19] (value -0.0)>, (42, 20): <gurobi.Var var_order[42,20] (value -0.0)>, (42, 21): <gurobi.Var var_order[42,21] (value -0.0)>, (42, 22): <gurobi.Var var_order[42,22] (value -0.0)>, (42, 23): <gurobi.Var var_order[42,23] (value -0.0)>, (42, 24): <gurobi.Var var_order[42,24] (value -0.0)>, (42, 25): <gurobi.Var var_order[42,25] (value 0.0)>, (42, 26): <gurobi.Var var_order[42,26] (value -0.0)>, (42, 27): <gurobi.Var var_order[42,27] (value -0.0)>, (42, 28): <gurobi.Var var_order[42,28] (value -0.0)>, (42, 29): <gurobi.Var var_order[42,29] (value -0.0)>, (43, 0): <gurobi.Var var_order[43,0] (value -0.0)>, (43, 1): <gurobi.Var var_order[43,1] (value -0.0)>, (43, 2): <gurobi.Var var_order[43,2] (value -0.0)>, (43, 3): <gurobi.Var var_order[43,3] (value -0.0)>, (43, 4): <gurobi.Var var_order[43,4] (value -0.0)>, (43, 5): <gurobi.Var var_order[43,5] (value -0.0)>, (43, 6): <gurobi.Var var_order[43,6] (value -0.0)>, (43, 7): <gurobi.Var var_order[43,7] (value -0.0)>, (43, 8): <gurobi.Var var_order[43,8] (value -0.0)>, (43, 9): <gurobi.Var var_order[43,9] (value -0.0)>, (43, 10): <gurobi.Var var_order[43,10] (value -0.0)>, (43, 11): <gurobi.Var var_order[43,11] (value -0.0)>, (43, 12): <gurobi.Var var_order[43,12] (value -0.0)>, (43, 13): <gurobi.Var var_order[43,13] (value -0.0)>, (43, 14): <gurobi.Var var_order[43,14] (value -0.0)>, (43, 15): <gurobi.Var var_order[43,15] (value -0.0)>, (43, 16): <gurobi.Var var_order[43,16] (value -0.0)>, (43, 17): <gurobi.Var var_order[43,17] (value -0.0)>, (43, 18): <gurobi.Var var_order[43,18] (value -0.0)>, (43, 19): <gurobi.Var var_order[43,19] (value -0.0)>, (43, 20): <gurobi.Var var_order[43,20] (value -0.0)>, (43, 21): <gurobi.Var var_order[43,21] (value -0.0)>, (43, 22): <gurobi.Var var_order[43,22] (value 0.0)>, (43, 23): <gurobi.Var var_order[43,23] (value 1.0)>, (43, 24): <gurobi.Var var_order[43,24] (value -0.0)>, (43, 25): <gurobi.Var var_order[43,25] (value -0.0)>, (43, 26): <gurobi.Var var_order[43,26] (value -0.0)>, (43, 27): <gurobi.Var var_order[43,27] (value -0.0)>, (43, 28): <gurobi.Var var_order[43,28] (value -0.0)>, (43, 29): <gurobi.Var var_order[43,29] (value -0.0)>, (44, 0): <gurobi.Var var_order[44,0] (value -0.0)>, (44, 1): <gurobi.Var var_order[44,1] (value -0.0)>, (44, 2): <gurobi.Var var_order[44,2] (value -0.0)>, (44, 3): <gurobi.Var var_order[44,3] (value -0.0)>, (44, 4): <gurobi.Var var_order[44,4] (value -0.0)>, (44, 5): <gurobi.Var var_order[44,5] (value -0.0)>, (44, 6): <gurobi.Var var_order[44,6] (value -0.0)>, (44, 7): <gurobi.Var var_order[44,7] (value -0.0)>, (44, 8): <gurobi.Var var_order[44,8] (value -0.0)>, (44, 9): <gurobi.Var var_order[44,9] (value -0.0)>, (44, 10): <gurobi.Var var_order[44,10] (value -0.0)>, (44, 11): <gurobi.Var var_order[44,11] (value -0.0)>, (44, 12): <gurobi.Var var_order[44,12] (value -0.0)>, (44, 13): <gurobi.Var var_order[44,13] (value -0.0)>, (44, 14): <gurobi.Var var_order[44,14] (value -0.0)>, (44, 15): <gurobi.Var var_order[44,15] (value -0.0)>, (44, 16): <gurobi.Var var_order[44,16] (value -0.0)>, (44, 17): <gurobi.Var var_order[44,17] (value -0.0)>, (44, 18): <gurobi.Var var_order[44,18] (value -0.0)>, (44, 19): <gurobi.Var var_order[44,19] (value -0.0)>, (44, 20): <gurobi.Var var_order[44,20] (value -0.0)>, (44, 21): <gurobi.Var var_order[44,21] (value -0.0)>, (44, 22): <gurobi.Var var_order[44,22] (value 1.0)>, (44, 23): <gurobi.Var var_order[44,23] (value -0.0)>, (44, 24): <gurobi.Var var_order[44,24] (value -0.0)>, (44, 25): <gurobi.Var var_order[44,25] (value -0.0)>, (44, 26): <gurobi.Var var_order[44,26] (value -0.0)>, (44, 27): <gurobi.Var var_order[44,27] (value -0.0)>, (44, 28): <gurobi.Var var_order[44,28] (value -0.0)>, (44, 29): <gurobi.Var var_order[44,29] (value -0.0)>, (45, 0): <gurobi.Var var_order[45,0] (value -0.0)>, (45, 1): <gurobi.Var var_order[45,1] (value -0.0)>, (45, 2): <gurobi.Var var_order[45,2] (value -0.0)>, (45, 3): <gurobi.Var var_order[45,3] (value -0.0)>, (45, 4): <gurobi.Var var_order[45,4] (value -0.0)>, (45, 5): <gurobi.Var var_order[45,5] (value -0.0)>, (45, 6): <gurobi.Var var_order[45,6] (value -0.0)>, (45, 7): <gurobi.Var var_order[45,7] (value -0.0)>, (45, 8): <gurobi.Var var_order[45,8] (value -0.0)>, (45, 9): <gurobi.Var var_order[45,9] (value 1.0)>, (45, 10): <gurobi.Var var_order[45,10] (value -0.0)>, (45, 11): <gurobi.Var var_order[45,11] (value -0.0)>, (45, 12): <gurobi.Var var_order[45,12] (value -0.0)>, (45, 13): <gurobi.Var var_order[45,13] (value -0.0)>, (45, 14): <gurobi.Var var_order[45,14] (value -0.0)>, (45, 15): <gurobi.Var var_order[45,15] (value -0.0)>, (45, 16): <gurobi.Var var_order[45,16] (value -0.0)>, (45, 17): <gurobi.Var var_order[45,17] (value -0.0)>, (45, 18): <gurobi.Var var_order[45,18] (value -0.0)>, (45, 19): <gurobi.Var var_order[45,19] (value -0.0)>, (45, 20): <gurobi.Var var_order[45,20] (value -0.0)>, (45, 21): <gurobi.Var var_order[45,21] (value -0.0)>, (45, 22): <gurobi.Var var_order[45,22] (value -0.0)>, (45, 23): <gurobi.Var var_order[45,23] (value -0.0)>, (45, 24): <gurobi.Var var_order[45,24] (value -0.0)>, (45, 25): <gurobi.Var var_order[45,25] (value -0.0)>, (45, 26): <gurobi.Var var_order[45,26] (value -0.0)>, (45, 27): <gurobi.Var var_order[45,27] (value -0.0)>, (45, 28): <gurobi.Var var_order[45,28] (value -0.0)>, (45, 29): <gurobi.Var var_order[45,29] (value -0.0)>, (46, 0): <gurobi.Var var_order[46,0] (value -0.0)>, (46, 1): <gurobi.Var var_order[46,1] (value -0.0)>, (46, 2): <gurobi.Var var_order[46,2] (value -0.0)>, (46, 3): <gurobi.Var var_order[46,3] (value -0.0)>, (46, 4): <gurobi.Var var_order[46,4] (value -0.0)>, (46, 5): <gurobi.Var var_order[46,5] (value -0.0)>, (46, 6): <gurobi.Var var_order[46,6] (value -0.0)>, (46, 7): <gurobi.Var var_order[46,7] (value -0.0)>, (46, 8): <gurobi.Var var_order[46,8] (value -0.0)>, (46, 9): <gurobi.Var var_order[46,9] (value -0.0)>, (46, 10): <gurobi.Var var_order[46,10] (value -0.0)>, (46, 11): <gurobi.Var var_order[46,11] (value -0.0)>, (46, 12): <gurobi.Var var_order[46,12] (value -0.0)>, (46, 13): <gurobi.Var var_order[46,13] (value -0.0)>, (46, 14): <gurobi.Var var_order[46,14] (value 0.0)>, (46, 15): <gurobi.Var var_order[46,15] (value -0.0)>, (46, 16): <gurobi.Var var_order[46,16] (value -0.0)>, (46, 17): <gurobi.Var var_order[46,17] (value -0.0)>, (46, 18): <gurobi.Var var_order[46,18] (value -0.0)>, (46, 19): <gurobi.Var var_order[46,19] (value 1.0)>, (46, 20): <gurobi.Var var_order[46,20] (value -0.0)>, (46, 21): <gurobi.Var var_order[46,21] (value -0.0)>, (46, 22): <gurobi.Var var_order[46,22] (value -0.0)>, (46, 23): <gurobi.Var var_order[46,23] (value -0.0)>, (46, 24): <gurobi.Var var_order[46,24] (value -0.0)>, (46, 25): <gurobi.Var var_order[46,25] (value -0.0)>, (46, 26): <gurobi.Var var_order[46,26] (value -0.0)>, (46, 27): <gurobi.Var var_order[46,27] (value -0.0)>, (46, 28): <gurobi.Var var_order[46,28] (value -0.0)>, (46, 29): <gurobi.Var var_order[46,29] (value -0.0)>, (47, 0): <gurobi.Var var_order[47,0] (value -0.0)>, (47, 1): <gurobi.Var var_order[47,1] (value -0.0)>, (47, 2): <gurobi.Var var_order[47,2] (value -0.0)>, (47, 3): <gurobi.Var var_order[47,3] (value -0.0)>, (47, 4): <gurobi.Var var_order[47,4] (value -0.0)>, (47, 5): <gurobi.Var var_order[47,5] (value -0.0)>, (47, 6): <gurobi.Var var_order[47,6] (value -0.0)>, (47, 7): <gurobi.Var var_order[47,7] (value -0.0)>, (47, 8): <gurobi.Var var_order[47,8] (value -0.0)>, (47, 9): <gurobi.Var var_order[47,9] (value -0.0)>, (47, 10): <gurobi.Var var_order[47,10] (value -0.0)>, (47, 11): <gurobi.Var var_order[47,11] (value -0.0)>, (47, 12): <gurobi.Var var_order[47,12] (value -0.0)>, (47, 13): <gurobi.Var var_order[47,13] (value -0.0)>, (47, 14): <gurobi.Var var_order[47,14] (value -0.0)>, (47, 15): <gurobi.Var var_order[47,15] (value -0.0)>, (47, 16): <gurobi.Var var_order[47,16] (value -0.0)>, (47, 17): <gurobi.Var var_order[47,17] (value -0.0)>, (47, 18): <gurobi.Var var_order[47,18] (value -0.0)>, (47, 19): <gurobi.Var var_order[47,19] (value -0.0)>, (47, 20): <gurobi.Var var_order[47,20] (value -0.0)>, (47, 21): <gurobi.Var var_order[47,21] (value -0.0)>, (47, 22): <gurobi.Var var_order[47,22] (value -0.0)>, (47, 23): <gurobi.Var var_order[47,23] (value -0.0)>, (47, 24): <gurobi.Var var_order[47,24] (value 1.0)>, (47, 25): <gurobi.Var var_order[47,25] (value 0.0)>, (47, 26): <gurobi.Var var_order[47,26] (value -0.0)>, (47, 27): <gurobi.Var var_order[47,27] (value -0.0)>, (47, 28): <gurobi.Var var_order[47,28] (value -0.0)>, (47, 29): <gurobi.Var var_order[47,29] (value -0.0)>, (48, 0): <gurobi.Var var_order[48,0] (value -0.0)>, (48, 1): <gurobi.Var var_order[48,1] (value -0.0)>, (48, 2): <gurobi.Var var_order[48,2] (value -0.0)>, (48, 3): <gurobi.Var var_order[48,3] (value -0.0)>, (48, 4): <gurobi.Var var_order[48,4] (value -0.0)>, (48, 5): <gurobi.Var var_order[48,5] (value -0.0)>, (48, 6): <gurobi.Var var_order[48,6] (value -0.0)>, (48, 7): <gurobi.Var var_order[48,7] (value -0.0)>, (48, 8): <gurobi.Var var_order[48,8] (value -0.0)>, (48, 9): <gurobi.Var var_order[48,9] (value -0.0)>, (48, 10): <gurobi.Var var_order[48,10] (value -0.0)>, (48, 11): <gurobi.Var var_order[48,11] (value -0.0)>, (48, 12): <gurobi.Var var_order[48,12] (value -0.0)>, (48, 13): <gurobi.Var var_order[48,13] (value -0.0)>, (48, 14): <gurobi.Var var_order[48,14] (value -0.0)>, (48, 15): <gurobi.Var var_order[48,15] (value -0.0)>, (48, 16): <gurobi.Var var_order[48,16] (value -0.0)>, (48, 17): <gurobi.Var var_order[48,17] (value -0.0)>, (48, 18): <gurobi.Var var_order[48,18] (value -0.0)>, (48, 19): <gurobi.Var var_order[48,19] (value -0.0)>, (48, 20): <gurobi.Var var_order[48,20] (value -0.0)>, (48, 21): <gurobi.Var var_order[48,21] (value 1.0)>, (48, 22): <gurobi.Var var_order[48,22] (value -0.0)>, (48, 23): <gurobi.Var var_order[48,23] (value -0.0)>, (48, 24): <gurobi.Var var_order[48,24] (value -0.0)>, (48, 25): <gurobi.Var var_order[48,25] (value -0.0)>, (48, 26): <gurobi.Var var_order[48,26] (value -0.0)>, (48, 27): <gurobi.Var var_order[48,27] (value 0.0)>, (48, 28): <gurobi.Var var_order[48,28] (value -0.0)>, (48, 29): <gurobi.Var var_order[48,29] (value -0.0)>, (49, 0): <gurobi.Var var_order[49,0] (value -0.0)>, (49, 1): <gurobi.Var var_order[49,1] (value -0.0)>, (49, 2): <gurobi.Var var_order[49,2] (value -0.0)>, (49, 3): <gurobi.Var var_order[49,3] (value -0.0)>, (49, 4): <gurobi.Var var_order[49,4] (value -0.0)>, (49, 5): <gurobi.Var var_order[49,5] (value -0.0)>, (49, 6): <gurobi.Var var_order[49,6] (value -0.0)>, (49, 7): <gurobi.Var var_order[49,7] (value -0.0)>, (49, 8): <gurobi.Var var_order[49,8] (value 0.0)>, (49, 9): <gurobi.Var var_order[49,9] (value -0.0)>, (49, 10): <gurobi.Var var_order[49,10] (value -0.0)>, (49, 11): <gurobi.Var var_order[49,11] (value -0.0)>, (49, 12): <gurobi.Var var_order[49,12] (value -0.0)>, (49, 13): <gurobi.Var var_order[49,13] (value -0.0)>, (49, 14): <gurobi.Var var_order[49,14] (value 0.0)>, (49, 15): <gurobi.Var var_order[49,15] (value -0.0)>, (49, 16): <gurobi.Var var_order[49,16] (value 1.0)>, (49, 17): <gurobi.Var var_order[49,17] (value -0.0)>, (49, 18): <gurobi.Var var_order[49,18] (value -0.0)>, (49, 19): <gurobi.Var var_order[49,19] (value -0.0)>, (49, 20): <gurobi.Var var_order[49,20] (value -0.0)>, (49, 21): <gurobi.Var var_order[49,21] (value -0.0)>, (49, 22): <gurobi.Var var_order[49,22] (value -0.0)>, (49, 23): <gurobi.Var var_order[49,23] (value -0.0)>, (49, 24): <gurobi.Var var_order[49,24] (value -0.0)>, (49, 25): <gurobi.Var var_order[49,25] (value -0.0)>, (49, 26): <gurobi.Var var_order[49,26] (value -0.0)>, (49, 27): <gurobi.Var var_order[49,27] (value -0.0)>, (49, 28): <gurobi.Var var_order[49,28] (value -0.0)>, (49, 29): <gurobi.Var var_order[49,29] (value -0.0)>}\n"
     ]
    }
   ],
   "source": [
    "# order_virtual = RL.allocate(orders_unmatched) #此处强化学习\n",
    "\n",
    "temp_Lower_Layer = Lower_Layer(num_vehicle, num_order, G, \n",
    "                            city_node ,Vehicles, orders_unmatched ,name,group)\n",
    "temp_Lower_Layer.get_decision()\n",
    "temp_Lower_Layer.constrain_1()\n",
    "temp_Lower_Layer.constrain_2()\n",
    "temp_Lower_Layer.constrain_3()\n",
    "temp_Lower_Layer.constrain_4()\n",
    "temp_Lower_Layer.constrain_5()\n",
    "\n",
    "temp_Lower_Layer.set_objective(matrix, revenue_vector, penalty_vector)\n",
    "temp_Lower_Layer.model.optimize()\n",
    "if temp_Lower_Layer.model.status == GRB.OPTIMAL:\n",
    "    # 打印变量的最优值\n",
    "    print(\"Optimal solution:\")\n",
    "    i = 0\n",
    "    with open(\"output.txt\", \"w\") as file:\n",
    "        for v in temp_Lower_Layer.model.getVars():\n",
    "            if v.x == 1:\n",
    "                file.write(f\"{v.varName} = {v.x}\\n\")  # 将结果写入文件\n",
    "        # 打印目标函数值\n",
    "    print(\"Objective value:\", temp_Lower_Layer.model.objVal)\n",
    "    \n",
    "    #RL.reward(temp_Lower_Layer.model.objVal)#此处返回给强化学习\n",
    "    #update(temp_Lower_Layer.model.getVars(),t)\n",
    "else:\n",
    "    print(\"No optimal solution found.\")\n",
    "_,var_order = temp_Lower_Layer.get_decision()\n",
    "print(var_order)"
   ]
  }
 ],
 "metadata": {
  "kernelspec": {
   "display_name": "dirty_test",
   "language": "python",
   "name": "python3"
  },
  "language_info": {
   "codemirror_mode": {
    "name": "ipython",
    "version": 3
   },
   "file_extension": ".py",
   "mimetype": "text/x-python",
   "name": "python",
   "nbconvert_exporter": "python",
   "pygments_lexer": "ipython3",
   "version": "3.9.18"
  }
 },
 "nbformat": 4,
 "nbformat_minor": 2
}
